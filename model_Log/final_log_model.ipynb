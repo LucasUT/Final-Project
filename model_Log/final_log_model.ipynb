{
 "cells": [
  {
   "cell_type": "code",
   "execution_count": 4,
   "metadata": {},
   "outputs": [
    {
     "name": "stdout",
     "output_type": "stream",
     "text": [
      "['seaborn-darkgrid', 'Solarize_Light2', 'seaborn-notebook', 'classic', 'seaborn-ticks', 'grayscale', 'bmh', 'seaborn-talk', 'dark_background', 'ggplot', 'fivethirtyeight', '_classic_test', 'seaborn-colorblind', 'seaborn-deep', 'seaborn-whitegrid', 'seaborn-bright', 'seaborn-poster', 'seaborn-muted', 'seaborn-paper', 'seaborn-white', 'fast', 'seaborn-pastel', 'seaborn-dark', 'tableau-colorblind10', 'seaborn', 'seaborn-dark-palette']\n"
     ]
    }
   ],
   "source": [
    "import numpy as np               \n",
    "import pandas as pd \n",
    " \n",
    "import matplotlib.pyplot as plt      \n",
    "import seaborn as sns         \n",
    "import datetime as dt                  \n",
    "\n",
    "\n",
    "%matplotlib inline\n",
    "print(plt.style.available)\n",
    "plt.style.use('ggplot')\n",
    "\n",
    "from sklearn.model_selection import train_test_split\n",
    "from imblearn.over_sampling import SMOTE\n",
    "\n",
    "import statsmodels.api as sm\n",
    "import pylab as pl"
   ]
  },
  {
   "cell_type": "code",
   "execution_count": 5,
   "metadata": {},
   "outputs": [],
   "source": [
    "# Bring in crime data"
   ]
  },
  {
   "cell_type": "code",
   "execution_count": 6,
   "metadata": {},
   "outputs": [],
   "source": [
    "crime = pd.read_csv('data_crime_1217_clean.csv')\n",
    "crime['Beat']=crime['Beat'].astype(str)\n",
    "crime['Community Area']=crime['Community Area'].astype(str)"
   ]
  },
  {
   "cell_type": "code",
   "execution_count": 7,
   "metadata": {},
   "outputs": [],
   "source": [
    "np.random.seed(1)\n",
    "#crime = crime.sample(10000)\n",
    "#crime.shape"
   ]
  },
  {
   "cell_type": "code",
   "execution_count": 8,
   "metadata": {},
   "outputs": [
    {
     "data": {
      "text/html": [
       "<div>\n",
       "<style scoped>\n",
       "    .dataframe tbody tr th:only-of-type {\n",
       "        vertical-align: middle;\n",
       "    }\n",
       "\n",
       "    .dataframe tbody tr th {\n",
       "        vertical-align: top;\n",
       "    }\n",
       "\n",
       "    .dataframe thead th {\n",
       "        text-align: right;\n",
       "    }\n",
       "</style>\n",
       "<table border=\"1\" class=\"dataframe\">\n",
       "  <thead>\n",
       "    <tr style=\"text-align: right;\">\n",
       "      <th></th>\n",
       "      <th>Arrest</th>\n",
       "      <th>Primary Type</th>\n",
       "      <th>Beat</th>\n",
       "      <th>Community Area</th>\n",
       "      <th>Location Description</th>\n",
       "    </tr>\n",
       "  </thead>\n",
       "  <tbody>\n",
       "    <tr>\n",
       "      <th>6515</th>\n",
       "      <td>0</td>\n",
       "      <td>ASSAULT</td>\n",
       "      <td>1014.0</td>\n",
       "      <td>29.0</td>\n",
       "      <td>ALLEY</td>\n",
       "    </tr>\n",
       "  </tbody>\n",
       "</table>\n",
       "</div>"
      ],
      "text/plain": [
       "      Arrest Primary Type    Beat Community Area Location Description\n",
       "6515       0      ASSAULT  1014.0           29.0                ALLEY"
      ]
     },
     "execution_count": 8,
     "metadata": {},
     "output_type": "execute_result"
    }
   ],
   "source": [
    "model = crime[['Arrest','Primary Type','Beat','Community Area','Location Description']]\n",
    "\n",
    "model.sample()"
   ]
  },
  {
   "cell_type": "code",
   "execution_count": 9,
   "metadata": {},
   "outputs": [
    {
     "data": {
      "image/png": "[encoded data removed]",
      "text/plain": [
       "<Figure size 432x288 with 1 Axes>"
      ]
     },
     "metadata": {},
     "output_type": "display_data"
    }
   ],
   "source": [
    "model = crime[['Arrest','Primary Type','Beat','Community Area','Location Description']]\n",
    "model = pd.get_dummies(model,drop_first=True,)\n",
    "sns.countplot(model['Arrest'], palette='hls')\n",
    "plt.savefig('log_imbalanced_count.png')"
   ]
  },
  {
   "cell_type": "code",
   "execution_count": 10,
   "metadata": {},
   "outputs": [
    {
     "data": {
      "text/html": [
       "<div>\n",
       "<style scoped>\n",
       "    .dataframe tbody tr th:only-of-type {\n",
       "        vertical-align: middle;\n",
       "    }\n",
       "\n",
       "    .dataframe tbody tr th {\n",
       "        vertical-align: top;\n",
       "    }\n",
       "\n",
       "    .dataframe thead th {\n",
       "        text-align: right;\n",
       "    }\n",
       "</style>\n",
       "<table border=\"1\" class=\"dataframe\">\n",
       "  <thead>\n",
       "    <tr style=\"text-align: right;\">\n",
       "      <th></th>\n",
       "      <th>Arrest</th>\n",
       "      <th>Primary Type_BATTERY</th>\n",
       "      <th>Primary Type_BURGLARY</th>\n",
       "      <th>Primary Type_CRIM SEXUAL ASSAULT</th>\n",
       "      <th>Primary Type_CRIMINAL DAMAGE</th>\n",
       "      <th>Primary Type_CRIMINAL TRESPASS</th>\n",
       "      <th>Primary Type_DECEPTIVE PRACTICE</th>\n",
       "      <th>Primary Type_GAMBLING</th>\n",
       "      <th>Primary Type_INTERFERENCE WITH PUBLIC OFFICER</th>\n",
       "      <th>Primary Type_MOTOR VEHICLE THEFT</th>\n",
       "      <th>...</th>\n",
       "      <th>Location Description_SPORTS ARENA/STADIUM</th>\n",
       "      <th>Location Description_STREET</th>\n",
       "      <th>Location Description_TAVERN/LIQUOR STORE</th>\n",
       "      <th>Location Description_TAXICAB</th>\n",
       "      <th>Location Description_VACANT LOT/LAND</th>\n",
       "      <th>Location Description_VEHICLE - DELIVERY TRUCK</th>\n",
       "      <th>Location Description_VEHICLE - OTHER RIDE SERVICE</th>\n",
       "      <th>Location Description_VEHICLE NON-COMMERCIAL</th>\n",
       "      <th>Location Description_VEHICLE-COMMERCIAL</th>\n",
       "      <th>Location Description_WAREHOUSE</th>\n",
       "    </tr>\n",
       "  </thead>\n",
       "  <tbody>\n",
       "    <tr>\n",
       "      <th>296718</th>\n",
       "      <td>0</td>\n",
       "      <td>0</td>\n",
       "      <td>0</td>\n",
       "      <td>0</td>\n",
       "      <td>0</td>\n",
       "      <td>0</td>\n",
       "      <td>0</td>\n",
       "      <td>0</td>\n",
       "      <td>0</td>\n",
       "      <td>0</td>\n",
       "      <td>...</td>\n",
       "      <td>0</td>\n",
       "      <td>0</td>\n",
       "      <td>0</td>\n",
       "      <td>0</td>\n",
       "      <td>0</td>\n",
       "      <td>0</td>\n",
       "      <td>0</td>\n",
       "      <td>0</td>\n",
       "      <td>0</td>\n",
       "      <td>0</td>\n",
       "    </tr>\n",
       "    <tr>\n",
       "      <th>494226</th>\n",
       "      <td>0</td>\n",
       "      <td>0</td>\n",
       "      <td>0</td>\n",
       "      <td>0</td>\n",
       "      <td>1</td>\n",
       "      <td>0</td>\n",
       "      <td>0</td>\n",
       "      <td>0</td>\n",
       "      <td>0</td>\n",
       "      <td>0</td>\n",
       "      <td>...</td>\n",
       "      <td>0</td>\n",
       "      <td>0</td>\n",
       "      <td>0</td>\n",
       "      <td>0</td>\n",
       "      <td>0</td>\n",
       "      <td>0</td>\n",
       "      <td>0</td>\n",
       "      <td>0</td>\n",
       "      <td>0</td>\n",
       "      <td>0</td>\n",
       "    </tr>\n",
       "    <tr>\n",
       "      <th>889018</th>\n",
       "      <td>0</td>\n",
       "      <td>1</td>\n",
       "      <td>0</td>\n",
       "      <td>0</td>\n",
       "      <td>0</td>\n",
       "      <td>0</td>\n",
       "      <td>0</td>\n",
       "      <td>0</td>\n",
       "      <td>0</td>\n",
       "      <td>0</td>\n",
       "      <td>...</td>\n",
       "      <td>0</td>\n",
       "      <td>1</td>\n",
       "      <td>0</td>\n",
       "      <td>0</td>\n",
       "      <td>0</td>\n",
       "      <td>0</td>\n",
       "      <td>0</td>\n",
       "      <td>0</td>\n",
       "      <td>0</td>\n",
       "      <td>0</td>\n",
       "    </tr>\n",
       "    <tr>\n",
       "      <th>964292</th>\n",
       "      <td>1</td>\n",
       "      <td>0</td>\n",
       "      <td>0</td>\n",
       "      <td>0</td>\n",
       "      <td>0</td>\n",
       "      <td>1</td>\n",
       "      <td>0</td>\n",
       "      <td>0</td>\n",
       "      <td>0</td>\n",
       "      <td>0</td>\n",
       "      <td>...</td>\n",
       "      <td>0</td>\n",
       "      <td>0</td>\n",
       "      <td>0</td>\n",
       "      <td>0</td>\n",
       "      <td>0</td>\n",
       "      <td>0</td>\n",
       "      <td>0</td>\n",
       "      <td>0</td>\n",
       "      <td>0</td>\n",
       "      <td>0</td>\n",
       "    </tr>\n",
       "    <tr>\n",
       "      <th>476447</th>\n",
       "      <td>0</td>\n",
       "      <td>0</td>\n",
       "      <td>0</td>\n",
       "      <td>0</td>\n",
       "      <td>0</td>\n",
       "      <td>0</td>\n",
       "      <td>0</td>\n",
       "      <td>0</td>\n",
       "      <td>0</td>\n",
       "      <td>0</td>\n",
       "      <td>...</td>\n",
       "      <td>0</td>\n",
       "      <td>0</td>\n",
       "      <td>0</td>\n",
       "      <td>0</td>\n",
       "      <td>0</td>\n",
       "      <td>0</td>\n",
       "      <td>0</td>\n",
       "      <td>0</td>\n",
       "      <td>0</td>\n",
       "      <td>0</td>\n",
       "    </tr>\n",
       "    <tr>\n",
       "      <th>619154</th>\n",
       "      <td>0</td>\n",
       "      <td>0</td>\n",
       "      <td>0</td>\n",
       "      <td>0</td>\n",
       "      <td>1</td>\n",
       "      <td>0</td>\n",
       "      <td>0</td>\n",
       "      <td>0</td>\n",
       "      <td>0</td>\n",
       "      <td>0</td>\n",
       "      <td>...</td>\n",
       "      <td>0</td>\n",
       "      <td>0</td>\n",
       "      <td>0</td>\n",
       "      <td>0</td>\n",
       "      <td>0</td>\n",
       "      <td>0</td>\n",
       "      <td>0</td>\n",
       "      <td>0</td>\n",
       "      <td>0</td>\n",
       "      <td>0</td>\n",
       "    </tr>\n",
       "  </tbody>\n",
       "</table>\n",
       "<p>6 rows × 496 columns</p>\n",
       "</div>"
      ],
      "text/plain": [
       "        Arrest  Primary Type_BATTERY  Primary Type_BURGLARY  \\\n",
       "296718       0                     0                      0   \n",
       "494226       0                     0                      0   \n",
       "889018       0                     1                      0   \n",
       "964292       1                     0                      0   \n",
       "476447       0                     0                      0   \n",
       "619154       0                     0                      0   \n",
       "\n",
       "        Primary Type_CRIM SEXUAL ASSAULT  Primary Type_CRIMINAL DAMAGE  \\\n",
       "296718                                 0                             0   \n",
       "494226                                 0                             1   \n",
       "889018                                 0                             0   \n",
       "964292                                 0                             0   \n",
       "476447                                 0                             0   \n",
       "619154                                 0                             1   \n",
       "\n",
       "        Primary Type_CRIMINAL TRESPASS  Primary Type_DECEPTIVE PRACTICE  \\\n",
       "296718                               0                                0   \n",
       "494226                               0                                0   \n",
       "889018                               0                                0   \n",
       "964292                               1                                0   \n",
       "476447                               0                                0   \n",
       "619154                               0                                0   \n",
       "\n",
       "        Primary Type_GAMBLING  Primary Type_INTERFERENCE WITH PUBLIC OFFICER  \\\n",
       "296718                      0                                              0   \n",
       "494226                      0                                              0   \n",
       "889018                      0                                              0   \n",
       "964292                      0                                              0   \n",
       "476447                      0                                              0   \n",
       "619154                      0                                              0   \n",
       "\n",
       "        Primary Type_MOTOR VEHICLE THEFT               ...                \\\n",
       "296718                                 0               ...                 \n",
       "494226                                 0               ...                 \n",
       "889018                                 0               ...                 \n",
       "964292                                 0               ...                 \n",
       "476447                                 0               ...                 \n",
       "619154                                 0               ...                 \n",
       "\n",
       "        Location Description_SPORTS ARENA/STADIUM  \\\n",
       "296718                                          0   \n",
       "494226                                          0   \n",
       "889018                                          0   \n",
       "964292                                          0   \n",
       "476447                                          0   \n",
       "619154                                          0   \n",
       "\n",
       "        Location Description_STREET  Location Description_TAVERN/LIQUOR STORE  \\\n",
       "296718                            0                                         0   \n",
       "494226                            0                                         0   \n",
       "889018                            1                                         0   \n",
       "964292                            0                                         0   \n",
       "476447                            0                                         0   \n",
       "619154                            0                                         0   \n",
       "\n",
       "        Location Description_TAXICAB  Location Description_VACANT LOT/LAND  \\\n",
       "296718                             0                                     0   \n",
       "494226                             0                                     0   \n",
       "889018                             0                                     0   \n",
       "964292                             0                                     0   \n",
       "476447                             0                                     0   \n",
       "619154                             0                                     0   \n",
       "\n",
       "        Location Description_VEHICLE - DELIVERY TRUCK  \\\n",
       "296718                                              0   \n",
       "494226                                              0   \n",
       "889018                                              0   \n",
       "964292                                              0   \n",
       "476447                                              0   \n",
       "619154                                              0   \n",
       "\n",
       "        Location Description_VEHICLE - OTHER RIDE SERVICE  \\\n",
       "296718                                                  0   \n",
       "494226                                                  0   \n",
       "889018                                                  0   \n",
       "964292                                                  0   \n",
       "476447                                                  0   \n",
       "619154                                                  0   \n",
       "\n",
       "        Location Description_VEHICLE NON-COMMERCIAL  \\\n",
       "296718                                            0   \n",
       "494226                                            0   \n",
       "889018                                            0   \n",
       "964292                                            0   \n",
       "476447                                            0   \n",
       "619154                                            0   \n",
       "\n",
       "        Location Description_VEHICLE-COMMERCIAL  \\\n",
       "296718                                        0   \n",
       "494226                                        0   \n",
       "889018                                        0   \n",
       "964292                                        0   \n",
       "476447                                        0   \n",
       "619154                                        0   \n",
       "\n",
       "        Location Description_WAREHOUSE  \n",
       "296718                               0  \n",
       "494226                               0  \n",
       "889018                               0  \n",
       "964292                               0  \n",
       "476447                               0  \n",
       "619154                               0  \n",
       "\n",
       "[6 rows x 496 columns]"
      ]
     },
     "execution_count": 10,
     "metadata": {},
     "output_type": "execute_result"
    }
   ],
   "source": [
    "model.sample(6)"
   ]
  },
  {
   "cell_type": "code",
   "execution_count": 11,
   "metadata": {},
   "outputs": [],
   "source": [
    "# SMOTE"
   ]
  },
  {
   "cell_type": "code",
   "execution_count": 12,
   "metadata": {},
   "outputs": [],
   "source": [
    "#os = SMOTE(random_state=0)\n",
    "#X_train, X_test, y_train, y_test = train_test_split(model.drop('Arrest',axis=1), \n",
    "#                                                    model['Arrest'], test_size=0.20, \n",
    "#                                                    random_state=101)\n",
    "#columns = X_train.columns\n",
    "#os_data_X,os_data_y=os.fit_sample(X_train, y_train)\n",
    "#os_data_X = pd.DataFrame(data=os_data_X,columns=columns )\n",
    "#os_data_y= pd.DataFrame(data=os_data_y,columns=['Arrest'])"
   ]
  },
  {
   "cell_type": "code",
   "execution_count": 13,
   "metadata": {},
   "outputs": [],
   "source": [
    "# UNDER SAMPLING"
   ]
  },
  {
   "cell_type": "code",
   "execution_count": 14,
   "metadata": {},
   "outputs": [],
   "source": [
    "np.random.seed(1)\n",
    "no_arrests = len(model[model['Arrest'] == 1])\n",
    "non_arrest_indices = model[model.Arrest == 0].index\n",
    "random_indices = np.random.choice(non_arrest_indices,no_arrests, replace=False)\n",
    "arrest_indices = model[model.Arrest == 1].index\n",
    "under_sample_indices = np.concatenate([arrest_indices,random_indices])\n",
    "mod_samp = model.loc[under_sample_indices]"
   ]
  },
  {
   "cell_type": "code",
   "execution_count": 15,
   "metadata": {},
   "outputs": [
    {
     "data": {
      "text/plain": [
       "(576656, 496)"
      ]
     },
     "execution_count": 15,
     "metadata": {},
     "output_type": "execute_result"
    }
   ],
   "source": [
    "mod_samp.shape"
   ]
  },
  {
   "cell_type": "code",
   "execution_count": 16,
   "metadata": {},
   "outputs": [
    {
     "name": "stdout",
     "output_type": "stream",
     "text": [
      "1    288328\n",
      "0    288328\n",
      "Name: Arrest, dtype: int64\n"
     ]
    },
    {
     "data": {
      "image/png": "[encoded data removed]",
      "text/plain": [
       "<Figure size 432x288 with 1 Axes>"
      ]
     },
     "metadata": {},
     "output_type": "display_data"
    }
   ],
   "source": [
    "sns.countplot(mod_samp['Arrest'], palette='hls')\n",
    "print(mod_samp['Arrest'].value_counts())\n",
    "plt.savefig('log_balanced_count.png')"
   ]
  },
  {
   "cell_type": "code",
   "execution_count": 17,
   "metadata": {},
   "outputs": [],
   "source": [
    "X = mod_samp.drop(columns=['Arrest'])\n",
    "y = mod_samp['Arrest']"
   ]
  },
  {
   "cell_type": "code",
   "execution_count": 18,
   "metadata": {},
   "outputs": [],
   "source": [
    "X_train, X_test, y_train, y_test = train_test_split(X, y, test_size=0.20, random_state=0)"
   ]
  },
  {
   "cell_type": "code",
   "execution_count": 19,
   "metadata": {},
   "outputs": [],
   "source": [
    "from sklearn.linear_model import LogisticRegression\n",
    "logmodel = LogisticRegression(penalty='l2')\n",
    "logmodel.fit(X_train,y_train)\n",
    "predictions = logmodel.predict(X_test)"
   ]
  },
  {
   "cell_type": "code",
   "execution_count": 20,
   "metadata": {},
   "outputs": [
    {
     "name": "stdout",
     "output_type": "stream",
     "text": [
      "             precision    recall  f1-score   support\n",
      "\n",
      "          0       0.75      0.89      0.81     57804\n",
      "          1       0.86      0.70      0.77     57528\n",
      "\n",
      "avg / total       0.80      0.79      0.79    115332\n",
      "\n"
     ]
    }
   ],
   "source": [
    "from sklearn.metrics import classification_report\n",
    "print(classification_report(y_test,predictions))"
   ]
  },
  {
   "cell_type": "code",
   "execution_count": 21,
   "metadata": {},
   "outputs": [
    {
     "name": "stdout",
     "output_type": "stream",
     "text": [
      "[[51179  6625]\n",
      " [17242 40286]]\n",
      "0.7930583012520376\n"
     ]
    }
   ],
   "source": [
    "score=logmodel.score(X_test,y_test)\n",
    "\n",
    "from sklearn import metrics\n",
    "cm = metrics.confusion_matrix(y_test, predictions)\n",
    "print(cm)\n",
    "\n",
    "from sklearn.metrics import accuracy_score\n",
    "print(accuracy_score(predictions, y_test))"
   ]
  },
  {
   "cell_type": "code",
   "execution_count": 22,
   "metadata": {},
   "outputs": [
    {
     "data": {
      "image/png": "[encoded data removed]",
      "text/plain": [
       "<Figure size 648x648 with 2 Axes>"
      ]
     },
     "metadata": {},
     "output_type": "display_data"
    }
   ],
   "source": [
    "plt.figure(figsize=(9,9))\n",
    "sns.heatmap(cm, annot=True, fmt=\".3f\", linewidths=.5, square = True, cmap = 'Blues');\n",
    "plt.ylabel('Actual label');\n",
    "plt.xlabel('Predicted label');\n",
    "all_sample_title = 'Accuracy Score: {0}'.format(score)\n",
    "plt.title(all_sample_title, size = 15);\n",
    "plt.savefig('log_conf_matrix.png')"
   ]
  },
  {
   "cell_type": "code",
   "execution_count": 23,
   "metadata": {},
   "outputs": [
    {
     "name": "stdout",
     "output_type": "stream",
     "text": [
      "MSE: 0.206942\n"
     ]
    }
   ],
   "source": [
    "from sklearn.metrics import mean_squared_error\n",
    "\n",
    "mse = mean_squared_error(y_test, predictions)\n",
    "print('MSE: %f' % mse)"
   ]
  },
  {
   "cell_type": "code",
   "execution_count": 24,
   "metadata": {},
   "outputs": [
    {
     "data": {
      "image/png": "[encoded data removed]",
      "text/plain": [
       "<Figure size 1152x1152 with 1 Axes>"
      ]
     },
     "metadata": {},
     "output_type": "display_data"
    }
   ],
   "source": [
    "from sklearn.metrics import roc_auc_score\n",
    "from sklearn.metrics import roc_curve\n",
    "logit_roc_auc = roc_auc_score(y_test, logmodel.predict(X_test))\n",
    "fpr, tpr, thresholds = roc_curve(y_test, logmodel.predict_proba(X_test)[:,1])\n",
    "plt.figure(figsize=(16,16))\n",
    "plt.plot(fpr, tpr, label='Logistic Regression (area = %0.2f)' % logit_roc_auc, linewidth=5)\n",
    "plt.plot([0, 1], [0, 1],'r--')\n",
    "plt.xlim([0.0, 1.0])\n",
    "plt.ylim([0.0, 1.05])\n",
    "plt.xlabel('False Positive Rate')\n",
    "plt.ylabel('True Positive Rate')\n",
    "plt.title('Receiver operating characteristic')\n",
    "plt.legend(loc=\"lower right\")\n",
    "plt.savefig('log_roc.png')\n",
    "plt.show()"
   ]
  },
  {
   "cell_type": "code",
   "execution_count": null,
   "metadata": {},
   "outputs": [],
   "source": []
  }
 ],
 "metadata": {
  "kernelspec": {
   "display_name": "Python 2",
   "language": "python",
   "name": "python2"
  },
  "language_info": {
   "codemirror_mode": {
    "name": "ipython",
    "version": 2
   },
   "file_extension": ".py",
   "mimetype": "text/x-python",
   "name": "python",
   "nbconvert_exporter": "python",
   "pygments_lexer": "ipython2",
   "version": "2.7.16"
  }
 },
 "nbformat": 4,
 "nbformat_minor": 2
}
