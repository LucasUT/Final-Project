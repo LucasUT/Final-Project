{
 "cells": [
  {
   "cell_type": "code",
   "execution_count": 28,
   "metadata": {},
   "outputs": [
    {
     "name": "stdout",
     "output_type": "stream",
     "text": [
      "['seaborn-darkgrid', 'Solarize_Light2', 'seaborn-notebook', 'classic', 'seaborn-ticks', 'grayscale', 'bmh', 'seaborn-talk', 'dark_background', 'ggplot', 'fivethirtyeight', '_classic_test', 'seaborn-colorblind', 'seaborn-deep', 'seaborn-whitegrid', 'seaborn-bright', 'seaborn-poster', 'seaborn-muted', 'seaborn-paper', 'seaborn-white', 'fast', 'seaborn-pastel', 'seaborn-dark', 'tableau-colorblind10', 'seaborn', 'seaborn-dark-palette']\n"
     ]
    }
   ],
   "source": [
    "# the usual suspects...\n",
    "# import sys                             # system module , don't usually need\n",
    "import numpy as np                  # pandas uses numpy, and sometimes want to use numpy within pandas\n",
    "import pandas as pd # data package, redundant since already did # graphics package\n",
    " \n",
    "import matplotlib.pyplot as plt      # graphics package\n",
    "import seaborn as sns               # makes matplotlib prettier without issuing a single command!\n",
    "import datetime as dt                  # date and time module, sometimes need to use\n",
    "\n",
    "\n",
    "%matplotlib inline\n",
    "print(plt.style.available)\n",
    "plt.style.use('ggplot')\n",
    "\n",
    "import statsmodels.api as sm\n",
    "import pylab as pl"
   ]
  },
  {
   "cell_type": "code",
   "execution_count": 29,
   "metadata": {},
   "outputs": [],
   "source": [
    "crime = pd.read_csv('merge2.csv')"
   ]
  },
  {
   "cell_type": "code",
   "execution_count": 30,
   "metadata": {},
   "outputs": [
    {
     "data": {
      "text/plain": [
       "(1039230, 129)"
      ]
     },
     "execution_count": 30,
     "metadata": {},
     "output_type": "execute_result"
    }
   ],
   "source": [
    "crime.shape"
   ]
  },
  {
   "cell_type": "code",
   "execution_count": 31,
   "metadata": {},
   "outputs": [],
   "source": [
    "#np.random.seed(1)\n",
    "#crime = crime.sample(10000)\n",
    "#crime.shape"
   ]
  },
  {
   "cell_type": "code",
   "execution_count": 32,
   "metadata": {},
   "outputs": [],
   "source": [
    "#np.random.seed(2)\n",
    "#crime = crime.sample()\n",
    "#crime.shape"
   ]
  },
  {
   "cell_type": "code",
   "execution_count": 33,
   "metadata": {},
   "outputs": [
    {
     "data": {
      "text/plain": [
       "['Unnamed: 0',\n",
       " 'Unnamed: 0.1',\n",
       " 'ID',\n",
       " 'Case Number',\n",
       " 'Block',\n",
       " 'IUCR',\n",
       " 'Primary Type',\n",
       " 'Description',\n",
       " 'Location Description',\n",
       " 'Arrest',\n",
       " 'Domestic',\n",
       " 'Beat',\n",
       " 'District',\n",
       " 'Ward',\n",
       " 'Community Area',\n",
       " 'FBI Code',\n",
       " 'X Coordinate',\n",
       " 'Y Coordinate',\n",
       " 'Year',\n",
       " 'Updated On',\n",
       " 'Latitude',\n",
       " 'Longitude',\n",
       " 'Location',\n",
       " 'Community Area Name',\n",
       " 'SIZE(km^2)',\n",
       " 'TOT_POP',\n",
       " 'POP_DENSITY',\n",
       " 'MED_AGE',\n",
       " 'UND19',\n",
       " 'RATIO_UND19',\n",
       " 'A20_34',\n",
       " 'RATIO_A20_34',\n",
       " 'A35_49',\n",
       " 'RATIO_A35_49',\n",
       " 'RATIO_OV50',\n",
       " 'WHITE',\n",
       " 'RATIO_WHI',\n",
       " 'HISP',\n",
       " 'RATIO_HIS',\n",
       " 'BLACK',\n",
       " 'RATIO_BLA',\n",
       " 'ASIAN',\n",
       " 'RATIO_ASI',\n",
       " 'OTHER',\n",
       " 'RATIO_OTH',\n",
       " 'POP_16OV',\n",
       " 'IN_LBFRC',\n",
       " 'EMP',\n",
       " 'RATIO_EMP',\n",
       " 'UNEMP',\n",
       " 'RATIO_UNE',\n",
       " 'NOT_IN_LBFRC',\n",
       " 'POP_25OV',\n",
       " 'LT_HS',\n",
       " 'RATIO_LT_HS',\n",
       " 'HS',\n",
       " 'RATIO_HS',\n",
       " 'SOME_COLL',\n",
       " 'RATIO_SOME',\n",
       " 'ASSOC',\n",
       " 'RATIO_ASSOC',\n",
       " 'BACH',\n",
       " 'RATIO_BACH',\n",
       " 'GRAD_PROF',\n",
       " 'RATIO_GRAD',\n",
       " 'INC_LT_25K',\n",
       " 'RATIO_LT25K',\n",
       " 'INC_25_50K',\n",
       " 'RATIO_2550K',\n",
       " 'INC_50_75K',\n",
       " 'RATIO_5075K',\n",
       " 'INC_75_100K',\n",
       " 'RATIO75_100K',\n",
       " 'INC_100_150K',\n",
       " 'RATIO_100150K',\n",
       " 'INC_GT_150',\n",
       " 'RATIO_GT150K',\n",
       " 'MEDINC',\n",
       " 'TOT_HH',\n",
       " 'VAC_HU',\n",
       " 'RATIO_VAC',\n",
       " 'FAM_HH',\n",
       " 'RATIO_FAM',\n",
       " 'SP_WCHILD_HH',\n",
       " 'RATIO_SP',\n",
       " 'NONFAM_HH',\n",
       " 'RATIO_NONFAM',\n",
       " 'Per_HH_Crowded',\n",
       " 'Per_HH_BelowPov',\n",
       " 'PER CAPITA INCOME ',\n",
       " 'HARDSHIP_INDEX',\n",
       " 'Birth Rate',\n",
       " 'General Fertility Rate',\n",
       " 'Teen Birth Rate',\n",
       " 'Preterm Births',\n",
       " 'Infant Mortality Rate',\n",
       " 'Mort_homicide',\n",
       " 'Mort_diabetes',\n",
       " 'Mort_Firearm',\n",
       " 'Life_Exp_10',\n",
       " 'TOT_CRIME',\n",
       " 'RATE_ASSAULT',\n",
       " 'RATE_BATTERY',\n",
       " 'RATE_HOMICIDE',\n",
       " 'RATE_THEFT',\n",
       " 'RATE_ROBBERY',\n",
       " 'RATE_BURGLARY',\n",
       " 'RATE_MOTOR VEHICLE THEFT',\n",
       " 'RATE_NARCOTICS',\n",
       " 'RATE_CRIMINAL TRESPASS',\n",
       " 'RATE_WEAPONS VIOLATION',\n",
       " 'RATE_CRIMINAL DAMAGE',\n",
       " 'RATE_PROSTITUTION',\n",
       " 'RATE_SEX OFFENSE',\n",
       " 'RATE_CRIM SEXUAL ASSAULT',\n",
       " 'RATE_PUBLIC PEACE VIOLATION',\n",
       " 'RATE_OFFENSE INVOLVING CHILDREN',\n",
       " 'RATE_INTERFERENCE WITH PUBLIC OFFICER',\n",
       " 'RATE_OBSCENITY',\n",
       " 'RATE_STALKING',\n",
       " 'RATE_KIDNAPPING',\n",
       " 'RATE_ARSON',\n",
       " 'RATE_INTIMIDATION',\n",
       " 'RATE_GAMBLING',\n",
       " 'TOT_RATE',\n",
       " 'year',\n",
       " 'month',\n",
       " 'day',\n",
       " 'time']"
      ]
     },
     "execution_count": 33,
     "metadata": {},
     "output_type": "execute_result"
    }
   ],
   "source": [
    "list(crime.columns)"
   ]
  },
  {
   "cell_type": "code",
   "execution_count": 34,
   "metadata": {},
   "outputs": [],
   "source": [
    "crime['Arrest'] = crime['Arrest'].replace({False: 0, True: 1})"
   ]
  },
  {
   "cell_type": "code",
   "execution_count": 35,
   "metadata": {},
   "outputs": [],
   "source": [
    "crime['Beat']=crime['Beat'].astype(str)\n",
    "crime['Ward']=crime['Ward'].astype(str)\n",
    "crime['District']=crime['District'].astype(str)\n",
    "crime['Community Area']=crime['Community Area'].astype(str)"
   ]
  },
  {
   "cell_type": "code",
   "execution_count": 36,
   "metadata": {},
   "outputs": [
    {
     "data": {
      "text/plain": [
       "(1039230, 129)"
      ]
     },
     "execution_count": 36,
     "metadata": {},
     "output_type": "execute_result"
    }
   ],
   "source": [
    "crime.shape"
   ]
  },
  {
   "cell_type": "code",
   "execution_count": 37,
   "metadata": {},
   "outputs": [],
   "source": [
    "time = pd.DataFrame(crime.time.str.split(\":\",2).tolist(),\n",
    "                                   columns = ['hour','minute','sec'])\n",
    "time.head(1)\n",
    "time.drop(columns=['minute','sec'], inplace=True)\n",
    "time['hour']=time['hour'].astype(str)"
   ]
  },
  {
   "cell_type": "code",
   "execution_count": 38,
   "metadata": {},
   "outputs": [
    {
     "data": {
      "text/plain": [
       "(1039230, 1)"
      ]
     },
     "execution_count": 38,
     "metadata": {},
     "output_type": "execute_result"
    }
   ],
   "source": [
    "time.shape"
   ]
  },
  {
   "cell_type": "code",
   "execution_count": 39,
   "metadata": {},
   "outputs": [
    {
     "data": {
      "text/plain": [
       "dtype('O')"
      ]
     },
     "execution_count": 39,
     "metadata": {},
     "output_type": "execute_result"
    }
   ],
   "source": [
    "crime['hour']=time['hour'].values\n",
    "crime['hour'].dtypes"
   ]
  },
  {
   "cell_type": "code",
   "execution_count": 40,
   "metadata": {},
   "outputs": [
    {
     "data": {
      "text/plain": [
       "(1039230, 130)"
      ]
     },
     "execution_count": 40,
     "metadata": {},
     "output_type": "execute_result"
    }
   ],
   "source": [
    "crime.shape"
   ]
  },
  {
   "cell_type": "code",
   "execution_count": 41,
   "metadata": {},
   "outputs": [],
   "source": [
    "crime = crime[crime['Primary Type']!='LIQUOR LAW VIOLATION']\n",
    "crime = crime[crime['Primary Type']!='ARSON']\n",
    "crime = crime[crime['Primary Type']!='KIDNAPPING']\n",
    "crime = crime[crime['Primary Type']!='STALKING']\n",
    "crime = crime[crime['Primary Type']!='INTIMIDATION']\n",
    "crime = crime[crime['Primary Type']!='OBSCENITY']\n",
    "crime = crime[crime['Primary Type']!='HOMICIDE']\n",
    "crime = crime[crime['Primary Type']!='PUBLIC INDECENCY']\n",
    "crime = crime[crime['Primary Type']!='CONCEALED CARRY LICENSE VIOLATION']\n",
    "crime = crime[crime['Primary Type']!='NON-CRIMINAL']\n",
    "crime = crime[crime['Primary Type']!='OTHER NARCOTIC VIOLATION']\n",
    "crime = crime[crime['Primary Type']!='NON - CRIMINAL']\n",
    "crime = crime[crime['Primary Type']!='HUMAN TRAFFICKING']\n",
    "crime = crime[crime['Primary Type']!='NON-CRIMINAL (SUBJECT SPECIFIED)']"
   ]
  },
  {
   "cell_type": "code",
   "execution_count": 42,
   "metadata": {},
   "outputs": [
    {
     "data": {
      "text/plain": [
       "array(['BATTERY', 'BURGLARY', 'WEAPONS VIOLATION', 'ASSAULT',\n",
       "       'PUBLIC PEACE VIOLATION', 'NARCOTICS', 'OTHER OFFENSE', 'THEFT',\n",
       "       'ROBBERY', 'CRIMINAL DAMAGE', 'MOTOR VEHICLE THEFT',\n",
       "       'DECEPTIVE PRACTICE', 'CRIMINAL TRESPASS', 'CRIM SEXUAL ASSAULT',\n",
       "       'INTERFERENCE WITH PUBLIC OFFICER', 'SEX OFFENSE',\n",
       "       'OFFENSE INVOLVING CHILDREN', 'PROSTITUTION', 'GAMBLING'],\n",
       "      dtype=object)"
      ]
     },
     "execution_count": 42,
     "metadata": {},
     "output_type": "execute_result"
    }
   ],
   "source": [
    "crime['Primary Type'].unique()"
   ]
  },
  {
   "cell_type": "code",
   "execution_count": 43,
   "metadata": {},
   "outputs": [
    {
     "data": {
      "text/plain": [
       "dtype('float64')"
      ]
     },
     "execution_count": 43,
     "metadata": {},
     "output_type": "execute_result"
    }
   ],
   "source": [
    "crime['TOT_RATE'].dtypes"
   ]
  },
  {
   "cell_type": "code",
   "execution_count": 44,
   "metadata": {},
   "outputs": [
    {
     "data": {
      "text/plain": [
       "(1034041, 2)"
      ]
     },
     "execution_count": 44,
     "metadata": {},
     "output_type": "execute_result"
    }
   ],
   "source": [
    "time = pd.read_csv('time.csv')\n",
    "time.shape"
   ]
  },
  {
   "cell_type": "code",
   "execution_count": 45,
   "metadata": {},
   "outputs": [
    {
     "data": {
      "text/html": [
       "<div>\n",
       "<style scoped>\n",
       "    .dataframe tbody tr th:only-of-type {\n",
       "        vertical-align: middle;\n",
       "    }\n",
       "\n",
       "    .dataframe tbody tr th {\n",
       "        vertical-align: top;\n",
       "    }\n",
       "\n",
       "    .dataframe thead th {\n",
       "        text-align: right;\n",
       "    }\n",
       "</style>\n",
       "<table border=\"1\" class=\"dataframe\">\n",
       "  <thead>\n",
       "    <tr style=\"text-align: right;\">\n",
       "      <th></th>\n",
       "      <th>Index</th>\n",
       "      <th>TOD</th>\n",
       "    </tr>\n",
       "  </thead>\n",
       "  <tbody>\n",
       "    <tr>\n",
       "      <th>0</th>\n",
       "      <td>0</td>\n",
       "      <td>Night</td>\n",
       "    </tr>\n",
       "    <tr>\n",
       "      <th>1</th>\n",
       "      <td>1</td>\n",
       "      <td>Morning</td>\n",
       "    </tr>\n",
       "    <tr>\n",
       "      <th>2</th>\n",
       "      <td>2</td>\n",
       "      <td>Day</td>\n",
       "    </tr>\n",
       "    <tr>\n",
       "      <th>3</th>\n",
       "      <td>3</td>\n",
       "      <td>Early_AM</td>\n",
       "    </tr>\n",
       "    <tr>\n",
       "      <th>4</th>\n",
       "      <td>4</td>\n",
       "      <td>Morning</td>\n",
       "    </tr>\n",
       "  </tbody>\n",
       "</table>\n",
       "</div>"
      ],
      "text/plain": [
       "   Index       TOD\n",
       "0      0     Night\n",
       "1      1   Morning\n",
       "2      2       Day\n",
       "3      3  Early_AM\n",
       "4      4   Morning"
      ]
     },
     "execution_count": 45,
     "metadata": {},
     "output_type": "execute_result"
    }
   ],
   "source": [
    "time.head()"
   ]
  },
  {
   "cell_type": "code",
   "execution_count": 46,
   "metadata": {},
   "outputs": [],
   "source": [
    "crime['TOD']=time['TOD']"
   ]
  },
  {
   "cell_type": "code",
   "execution_count": 47,
   "metadata": {},
   "outputs": [
    {
     "data": {
      "text/html": [
       "<div>\n",
       "<style scoped>\n",
       "    .dataframe tbody tr th:only-of-type {\n",
       "        vertical-align: middle;\n",
       "    }\n",
       "\n",
       "    .dataframe tbody tr th {\n",
       "        vertical-align: top;\n",
       "    }\n",
       "\n",
       "    .dataframe thead th {\n",
       "        text-align: right;\n",
       "    }\n",
       "</style>\n",
       "<table border=\"1\" class=\"dataframe\">\n",
       "  <thead>\n",
       "    <tr style=\"text-align: right;\">\n",
       "      <th></th>\n",
       "      <th>Unnamed: 0</th>\n",
       "      <th>Unnamed: 0.1</th>\n",
       "      <th>ID</th>\n",
       "      <th>Case Number</th>\n",
       "      <th>Block</th>\n",
       "      <th>IUCR</th>\n",
       "      <th>Primary Type</th>\n",
       "      <th>Description</th>\n",
       "      <th>Location Description</th>\n",
       "      <th>Arrest</th>\n",
       "      <th>...</th>\n",
       "      <th>RATE_ARSON</th>\n",
       "      <th>RATE_INTIMIDATION</th>\n",
       "      <th>RATE_GAMBLING</th>\n",
       "      <th>TOT_RATE</th>\n",
       "      <th>year</th>\n",
       "      <th>month</th>\n",
       "      <th>day</th>\n",
       "      <th>time</th>\n",
       "      <th>hour</th>\n",
       "      <th>TOD</th>\n",
       "    </tr>\n",
       "  </thead>\n",
       "  <tbody>\n",
       "    <tr>\n",
       "      <th>0</th>\n",
       "      <td>0</td>\n",
       "      <td>3</td>\n",
       "      <td>10508693</td>\n",
       "      <td>HZ250496</td>\n",
       "      <td>013XX S SAWYER AVE</td>\n",
       "      <td>486</td>\n",
       "      <td>BATTERY</td>\n",
       "      <td>DOMESTIC BATTERY SIMPLE</td>\n",
       "      <td>APARTMENT</td>\n",
       "      <td>1</td>\n",
       "      <td>...</td>\n",
       "      <td>5.708798</td>\n",
       "      <td>0.800299</td>\n",
       "      <td>16.272742</td>\n",
       "      <td>3117.430507</td>\n",
       "      <td>2016</td>\n",
       "      <td>5</td>\n",
       "      <td>3</td>\n",
       "      <td>23:40:00</td>\n",
       "      <td>23</td>\n",
       "      <td>Night</td>\n",
       "    </tr>\n",
       "    <tr>\n",
       "      <th>1</th>\n",
       "      <td>1</td>\n",
       "      <td>48110</td>\n",
       "      <td>10448396</td>\n",
       "      <td>HZ187600</td>\n",
       "      <td>019XX S TRUMBULL AVE</td>\n",
       "      <td>610</td>\n",
       "      <td>BURGLARY</td>\n",
       "      <td>FORCIBLE ENTRY</td>\n",
       "      <td>APARTMENT</td>\n",
       "      <td>0</td>\n",
       "      <td>...</td>\n",
       "      <td>5.708798</td>\n",
       "      <td>0.800299</td>\n",
       "      <td>16.272742</td>\n",
       "      <td>3117.430507</td>\n",
       "      <td>2016</td>\n",
       "      <td>3</td>\n",
       "      <td>14</td>\n",
       "      <td>10:15:00</td>\n",
       "      <td>10</td>\n",
       "      <td>Morning</td>\n",
       "    </tr>\n",
       "    <tr>\n",
       "      <th>2</th>\n",
       "      <td>2</td>\n",
       "      <td>52366</td>\n",
       "      <td>10495378</td>\n",
       "      <td>HZ235779</td>\n",
       "      <td>015XX S CHRISTIANA AVE</td>\n",
       "      <td>143A</td>\n",
       "      <td>WEAPONS VIOLATION</td>\n",
       "      <td>UNLAWFUL POSS OF HANDGUN</td>\n",
       "      <td>VACANT LOT/LAND</td>\n",
       "      <td>1</td>\n",
       "      <td>...</td>\n",
       "      <td>5.708798</td>\n",
       "      <td>0.800299</td>\n",
       "      <td>16.272742</td>\n",
       "      <td>3117.430507</td>\n",
       "      <td>2016</td>\n",
       "      <td>4</td>\n",
       "      <td>22</td>\n",
       "      <td>11:21:00</td>\n",
       "      <td>11</td>\n",
       "      <td>Day</td>\n",
       "    </tr>\n",
       "    <tr>\n",
       "      <th>4</th>\n",
       "      <td>4</td>\n",
       "      <td>63024</td>\n",
       "      <td>10508736</td>\n",
       "      <td>HZ250568</td>\n",
       "      <td>035XX W GRENSHAW ST</td>\n",
       "      <td>051A</td>\n",
       "      <td>ASSAULT</td>\n",
       "      <td>AGGRAVATED: HANDGUN</td>\n",
       "      <td>APARTMENT</td>\n",
       "      <td>1</td>\n",
       "      <td>...</td>\n",
       "      <td>5.708798</td>\n",
       "      <td>0.800299</td>\n",
       "      <td>16.272742</td>\n",
       "      <td>3117.430507</td>\n",
       "      <td>2016</td>\n",
       "      <td>5</td>\n",
       "      <td>4</td>\n",
       "      <td>02:08:00</td>\n",
       "      <td>02</td>\n",
       "      <td>Morning</td>\n",
       "    </tr>\n",
       "    <tr>\n",
       "      <th>5</th>\n",
       "      <td>5</td>\n",
       "      <td>77788</td>\n",
       "      <td>10509116</td>\n",
       "      <td>HZ250649</td>\n",
       "      <td>039XX W ROOSEVELT RD</td>\n",
       "      <td>470</td>\n",
       "      <td>PUBLIC PEACE VIOLATION</td>\n",
       "      <td>RECKLESS CONDUCT</td>\n",
       "      <td>SIDEWALK</td>\n",
       "      <td>1</td>\n",
       "      <td>...</td>\n",
       "      <td>5.708798</td>\n",
       "      <td>0.800299</td>\n",
       "      <td>16.272742</td>\n",
       "      <td>3117.430507</td>\n",
       "      <td>2016</td>\n",
       "      <td>5</td>\n",
       "      <td>4</td>\n",
       "      <td>07:00:00</td>\n",
       "      <td>07</td>\n",
       "      <td>Morning</td>\n",
       "    </tr>\n",
       "  </tbody>\n",
       "</table>\n",
       "<p>5 rows × 131 columns</p>\n",
       "</div>"
      ],
      "text/plain": [
       "   Unnamed: 0  Unnamed: 0.1        ID Case Number                   Block  \\\n",
       "0           0             3  10508693    HZ250496      013XX S SAWYER AVE   \n",
       "1           1         48110  10448396    HZ187600    019XX S TRUMBULL AVE   \n",
       "2           2         52366  10495378    HZ235779  015XX S CHRISTIANA AVE   \n",
       "4           4         63024  10508736    HZ250568     035XX W GRENSHAW ST   \n",
       "5           5         77788  10509116    HZ250649    039XX W ROOSEVELT RD   \n",
       "\n",
       "   IUCR            Primary Type               Description  \\\n",
       "0   486                 BATTERY   DOMESTIC BATTERY SIMPLE   \n",
       "1   610                BURGLARY            FORCIBLE ENTRY   \n",
       "2  143A       WEAPONS VIOLATION  UNLAWFUL POSS OF HANDGUN   \n",
       "4  051A                 ASSAULT       AGGRAVATED: HANDGUN   \n",
       "5   470  PUBLIC PEACE VIOLATION          RECKLESS CONDUCT   \n",
       "\n",
       "  Location Description  Arrest   ...     RATE_ARSON RATE_INTIMIDATION  \\\n",
       "0            APARTMENT       1   ...       5.708798          0.800299   \n",
       "1            APARTMENT       0   ...       5.708798          0.800299   \n",
       "2      VACANT LOT/LAND       1   ...       5.708798          0.800299   \n",
       "4            APARTMENT       1   ...       5.708798          0.800299   \n",
       "5             SIDEWALK       1   ...       5.708798          0.800299   \n",
       "\n",
       "  RATE_GAMBLING     TOT_RATE  year month  day      time  hour      TOD  \n",
       "0     16.272742  3117.430507  2016     5    3  23:40:00    23    Night  \n",
       "1     16.272742  3117.430507  2016     3   14  10:15:00    10  Morning  \n",
       "2     16.272742  3117.430507  2016     4   22  11:21:00    11      Day  \n",
       "4     16.272742  3117.430507  2016     5    4  02:08:00    02  Morning  \n",
       "5     16.272742  3117.430507  2016     5    4  07:00:00    07  Morning  \n",
       "\n",
       "[5 rows x 131 columns]"
      ]
     },
     "execution_count": 47,
     "metadata": {},
     "output_type": "execute_result"
    }
   ],
   "source": [
    "crime.head()"
   ]
  },
  {
   "cell_type": "code",
   "execution_count": 48,
   "metadata": {},
   "outputs": [],
   "source": [
    "crime.shape\n",
    "crime.to_csv('crime_cleaned2.csv')"
   ]
  },
  {
   "cell_type": "code",
   "execution_count": 49,
   "metadata": {},
   "outputs": [
    {
     "data": {
      "text/plain": [
       "['Unnamed: 0',\n",
       " 'Unnamed: 0.1',\n",
       " 'ID',\n",
       " 'Case Number',\n",
       " 'Block',\n",
       " 'IUCR',\n",
       " 'Primary Type',\n",
       " 'Description',\n",
       " 'Location Description',\n",
       " 'Arrest',\n",
       " 'Domestic',\n",
       " 'Beat',\n",
       " 'District',\n",
       " 'Ward',\n",
       " 'Community Area',\n",
       " 'FBI Code',\n",
       " 'X Coordinate',\n",
       " 'Y Coordinate',\n",
       " 'Year',\n",
       " 'Updated On',\n",
       " 'Latitude',\n",
       " 'Longitude',\n",
       " 'Location',\n",
       " 'Community Area Name',\n",
       " 'SIZE(km^2)',\n",
       " 'TOT_POP',\n",
       " 'POP_DENSITY',\n",
       " 'MED_AGE',\n",
       " 'UND19',\n",
       " 'RATIO_UND19',\n",
       " 'A20_34',\n",
       " 'RATIO_A20_34',\n",
       " 'A35_49',\n",
       " 'RATIO_A35_49',\n",
       " 'RATIO_OV50',\n",
       " 'WHITE',\n",
       " 'RATIO_WHI',\n",
       " 'HISP',\n",
       " 'RATIO_HIS',\n",
       " 'BLACK',\n",
       " 'RATIO_BLA',\n",
       " 'ASIAN',\n",
       " 'RATIO_ASI',\n",
       " 'OTHER',\n",
       " 'RATIO_OTH',\n",
       " 'POP_16OV',\n",
       " 'IN_LBFRC',\n",
       " 'EMP',\n",
       " 'RATIO_EMP',\n",
       " 'UNEMP',\n",
       " 'RATIO_UNE',\n",
       " 'NOT_IN_LBFRC',\n",
       " 'POP_25OV',\n",
       " 'LT_HS',\n",
       " 'RATIO_LT_HS',\n",
       " 'HS',\n",
       " 'RATIO_HS',\n",
       " 'SOME_COLL',\n",
       " 'RATIO_SOME',\n",
       " 'ASSOC',\n",
       " 'RATIO_ASSOC',\n",
       " 'BACH',\n",
       " 'RATIO_BACH',\n",
       " 'GRAD_PROF',\n",
       " 'RATIO_GRAD',\n",
       " 'INC_LT_25K',\n",
       " 'RATIO_LT25K',\n",
       " 'INC_25_50K',\n",
       " 'RATIO_2550K',\n",
       " 'INC_50_75K',\n",
       " 'RATIO_5075K',\n",
       " 'INC_75_100K',\n",
       " 'RATIO75_100K',\n",
       " 'INC_100_150K',\n",
       " 'RATIO_100150K',\n",
       " 'INC_GT_150',\n",
       " 'RATIO_GT150K',\n",
       " 'MEDINC',\n",
       " 'TOT_HH',\n",
       " 'VAC_HU',\n",
       " 'RATIO_VAC',\n",
       " 'FAM_HH',\n",
       " 'RATIO_FAM',\n",
       " 'SP_WCHILD_HH',\n",
       " 'RATIO_SP',\n",
       " 'NONFAM_HH',\n",
       " 'RATIO_NONFAM',\n",
       " 'Per_HH_Crowded',\n",
       " 'Per_HH_BelowPov',\n",
       " 'PER CAPITA INCOME ',\n",
       " 'HARDSHIP_INDEX',\n",
       " 'Birth Rate',\n",
       " 'General Fertility Rate',\n",
       " 'Teen Birth Rate',\n",
       " 'Preterm Births',\n",
       " 'Infant Mortality Rate',\n",
       " 'Mort_homicide',\n",
       " 'Mort_diabetes',\n",
       " 'Mort_Firearm',\n",
       " 'Life_Exp_10',\n",
       " 'TOT_CRIME',\n",
       " 'RATE_ASSAULT',\n",
       " 'RATE_BATTERY',\n",
       " 'RATE_HOMICIDE',\n",
       " 'RATE_THEFT',\n",
       " 'RATE_ROBBERY',\n",
       " 'RATE_BURGLARY',\n",
       " 'RATE_MOTOR VEHICLE THEFT',\n",
       " 'RATE_NARCOTICS',\n",
       " 'RATE_CRIMINAL TRESPASS',\n",
       " 'RATE_WEAPONS VIOLATION',\n",
       " 'RATE_CRIMINAL DAMAGE',\n",
       " 'RATE_PROSTITUTION',\n",
       " 'RATE_SEX OFFENSE',\n",
       " 'RATE_CRIM SEXUAL ASSAULT',\n",
       " 'RATE_PUBLIC PEACE VIOLATION',\n",
       " 'RATE_OFFENSE INVOLVING CHILDREN',\n",
       " 'RATE_INTERFERENCE WITH PUBLIC OFFICER',\n",
       " 'RATE_OBSCENITY',\n",
       " 'RATE_STALKING',\n",
       " 'RATE_KIDNAPPING',\n",
       " 'RATE_ARSON',\n",
       " 'RATE_INTIMIDATION',\n",
       " 'RATE_GAMBLING',\n",
       " 'TOT_RATE',\n",
       " 'year',\n",
       " 'month',\n",
       " 'day',\n",
       " 'time',\n",
       " 'hour',\n",
       " 'TOD']"
      ]
     },
     "execution_count": 49,
     "metadata": {},
     "output_type": "execute_result"
    }
   ],
   "source": [
    "list(crime.columns)"
   ]
  },
  {
   "cell_type": "markdown",
   "metadata": {},
   "source": [
    "## MODEL"
   ]
  },
  {
   "cell_type": "code",
   "execution_count": 50,
   "metadata": {},
   "outputs": [],
   "source": [
    "model = crime[['Arrest','Primary Type','Beat','Community Area','Location Description']]"
   ]
  },
  {
   "cell_type": "code",
   "execution_count": 51,
   "metadata": {},
   "outputs": [],
   "source": [
    "#model = crime"
   ]
  },
  {
   "cell_type": "code",
   "execution_count": null,
   "metadata": {},
   "outputs": [],
   "source": [
    "model.sample.head()"
   ]
  },
  {
   "cell_type": "code",
   "execution_count": 53,
   "metadata": {},
   "outputs": [
    {
     "data": {
      "text/plain": [
       "(1034041, 5)"
      ]
     },
     "execution_count": 53,
     "metadata": {},
     "output_type": "execute_result"
    }
   ],
   "source": [
    "model.shape"
   ]
  },
  {
   "cell_type": "code",
   "execution_count": 54,
   "metadata": {},
   "outputs": [
    {
     "data": {
      "text/plain": [
       "Arrest                   int64\n",
       "Primary Type            object\n",
       "Beat                    object\n",
       "Community Area          object\n",
       "Location Description    object\n",
       "dtype: object"
      ]
     },
     "execution_count": 54,
     "metadata": {},
     "output_type": "execute_result"
    }
   ],
   "source": [
    "model.dtypes"
   ]
  },
  {
   "cell_type": "markdown",
   "metadata": {},
   "source": [
    "# Get Dummies"
   ]
  },
  {
   "cell_type": "code",
   "execution_count": 55,
   "metadata": {},
   "outputs": [],
   "source": [
    "model = pd.get_dummies(model, prefix=['type','beat','com','loc'],drop_first=True,)"
   ]
  },
  {
   "cell_type": "code",
   "execution_count": 56,
   "metadata": {},
   "outputs": [],
   "source": [
    "#model = pd.get_dummies(model,drop_first=True,)"
   ]
  },
  {
   "cell_type": "code",
   "execution_count": 57,
   "metadata": {},
   "outputs": [
    {
     "data": {
      "text/html": [
       "<div>\n",
       "<style scoped>\n",
       "    .dataframe tbody tr th:only-of-type {\n",
       "        vertical-align: middle;\n",
       "    }\n",
       "\n",
       "    .dataframe tbody tr th {\n",
       "        vertical-align: top;\n",
       "    }\n",
       "\n",
       "    .dataframe thead th {\n",
       "        text-align: right;\n",
       "    }\n",
       "</style>\n",
       "<table border=\"1\" class=\"dataframe\">\n",
       "  <thead>\n",
       "    <tr style=\"text-align: right;\">\n",
       "      <th></th>\n",
       "      <th>Arrest</th>\n",
       "      <th>type_BATTERY</th>\n",
       "      <th>type_BURGLARY</th>\n",
       "      <th>type_CRIM SEXUAL ASSAULT</th>\n",
       "      <th>type_CRIMINAL DAMAGE</th>\n",
       "      <th>type_CRIMINAL TRESPASS</th>\n",
       "      <th>type_DECEPTIVE PRACTICE</th>\n",
       "      <th>type_GAMBLING</th>\n",
       "      <th>type_INTERFERENCE WITH PUBLIC OFFICER</th>\n",
       "      <th>type_MOTOR VEHICLE THEFT</th>\n",
       "      <th>...</th>\n",
       "      <th>loc_SPORTS ARENA/STADIUM</th>\n",
       "      <th>loc_STREET</th>\n",
       "      <th>loc_TAVERN/LIQUOR STORE</th>\n",
       "      <th>loc_TAXICAB</th>\n",
       "      <th>loc_VACANT LOT/LAND</th>\n",
       "      <th>loc_VEHICLE - DELIVERY TRUCK</th>\n",
       "      <th>loc_VEHICLE - OTHER RIDE SERVICE</th>\n",
       "      <th>loc_VEHICLE NON-COMMERCIAL</th>\n",
       "      <th>loc_VEHICLE-COMMERCIAL</th>\n",
       "      <th>loc_WAREHOUSE</th>\n",
       "    </tr>\n",
       "  </thead>\n",
       "  <tbody>\n",
       "    <tr>\n",
       "      <th>0</th>\n",
       "      <td>1</td>\n",
       "      <td>1</td>\n",
       "      <td>0</td>\n",
       "      <td>0</td>\n",
       "      <td>0</td>\n",
       "      <td>0</td>\n",
       "      <td>0</td>\n",
       "      <td>0</td>\n",
       "      <td>0</td>\n",
       "      <td>0</td>\n",
       "      <td>...</td>\n",
       "      <td>0</td>\n",
       "      <td>0</td>\n",
       "      <td>0</td>\n",
       "      <td>0</td>\n",
       "      <td>0</td>\n",
       "      <td>0</td>\n",
       "      <td>0</td>\n",
       "      <td>0</td>\n",
       "      <td>0</td>\n",
       "      <td>0</td>\n",
       "    </tr>\n",
       "    <tr>\n",
       "      <th>1</th>\n",
       "      <td>0</td>\n",
       "      <td>0</td>\n",
       "      <td>1</td>\n",
       "      <td>0</td>\n",
       "      <td>0</td>\n",
       "      <td>0</td>\n",
       "      <td>0</td>\n",
       "      <td>0</td>\n",
       "      <td>0</td>\n",
       "      <td>0</td>\n",
       "      <td>...</td>\n",
       "      <td>0</td>\n",
       "      <td>0</td>\n",
       "      <td>0</td>\n",
       "      <td>0</td>\n",
       "      <td>0</td>\n",
       "      <td>0</td>\n",
       "      <td>0</td>\n",
       "      <td>0</td>\n",
       "      <td>0</td>\n",
       "      <td>0</td>\n",
       "    </tr>\n",
       "    <tr>\n",
       "      <th>2</th>\n",
       "      <td>1</td>\n",
       "      <td>0</td>\n",
       "      <td>0</td>\n",
       "      <td>0</td>\n",
       "      <td>0</td>\n",
       "      <td>0</td>\n",
       "      <td>0</td>\n",
       "      <td>0</td>\n",
       "      <td>0</td>\n",
       "      <td>0</td>\n",
       "      <td>...</td>\n",
       "      <td>0</td>\n",
       "      <td>0</td>\n",
       "      <td>0</td>\n",
       "      <td>0</td>\n",
       "      <td>1</td>\n",
       "      <td>0</td>\n",
       "      <td>0</td>\n",
       "      <td>0</td>\n",
       "      <td>0</td>\n",
       "      <td>0</td>\n",
       "    </tr>\n",
       "    <tr>\n",
       "      <th>4</th>\n",
       "      <td>1</td>\n",
       "      <td>0</td>\n",
       "      <td>0</td>\n",
       "      <td>0</td>\n",
       "      <td>0</td>\n",
       "      <td>0</td>\n",
       "      <td>0</td>\n",
       "      <td>0</td>\n",
       "      <td>0</td>\n",
       "      <td>0</td>\n",
       "      <td>...</td>\n",
       "      <td>0</td>\n",
       "      <td>0</td>\n",
       "      <td>0</td>\n",
       "      <td>0</td>\n",
       "      <td>0</td>\n",
       "      <td>0</td>\n",
       "      <td>0</td>\n",
       "      <td>0</td>\n",
       "      <td>0</td>\n",
       "      <td>0</td>\n",
       "    </tr>\n",
       "    <tr>\n",
       "      <th>5</th>\n",
       "      <td>1</td>\n",
       "      <td>0</td>\n",
       "      <td>0</td>\n",
       "      <td>0</td>\n",
       "      <td>0</td>\n",
       "      <td>0</td>\n",
       "      <td>0</td>\n",
       "      <td>0</td>\n",
       "      <td>0</td>\n",
       "      <td>0</td>\n",
       "      <td>...</td>\n",
       "      <td>0</td>\n",
       "      <td>0</td>\n",
       "      <td>0</td>\n",
       "      <td>0</td>\n",
       "      <td>0</td>\n",
       "      <td>0</td>\n",
       "      <td>0</td>\n",
       "      <td>0</td>\n",
       "      <td>0</td>\n",
       "      <td>0</td>\n",
       "    </tr>\n",
       "  </tbody>\n",
       "</table>\n",
       "<p>5 rows × 496 columns</p>\n",
       "</div>"
      ],
      "text/plain": [
       "   Arrest  type_BATTERY  type_BURGLARY  type_CRIM SEXUAL ASSAULT  \\\n",
       "0       1             1              0                         0   \n",
       "1       0             0              1                         0   \n",
       "2       1             0              0                         0   \n",
       "4       1             0              0                         0   \n",
       "5       1             0              0                         0   \n",
       "\n",
       "   type_CRIMINAL DAMAGE  type_CRIMINAL TRESPASS  type_DECEPTIVE PRACTICE  \\\n",
       "0                     0                       0                        0   \n",
       "1                     0                       0                        0   \n",
       "2                     0                       0                        0   \n",
       "4                     0                       0                        0   \n",
       "5                     0                       0                        0   \n",
       "\n",
       "   type_GAMBLING  type_INTERFERENCE WITH PUBLIC OFFICER  \\\n",
       "0              0                                      0   \n",
       "1              0                                      0   \n",
       "2              0                                      0   \n",
       "4              0                                      0   \n",
       "5              0                                      0   \n",
       "\n",
       "   type_MOTOR VEHICLE THEFT      ...        loc_SPORTS ARENA/STADIUM  \\\n",
       "0                         0      ...                               0   \n",
       "1                         0      ...                               0   \n",
       "2                         0      ...                               0   \n",
       "4                         0      ...                               0   \n",
       "5                         0      ...                               0   \n",
       "\n",
       "   loc_STREET  loc_TAVERN/LIQUOR STORE  loc_TAXICAB  loc_VACANT LOT/LAND  \\\n",
       "0           0                        0            0                    0   \n",
       "1           0                        0            0                    0   \n",
       "2           0                        0            0                    1   \n",
       "4           0                        0            0                    0   \n",
       "5           0                        0            0                    0   \n",
       "\n",
       "   loc_VEHICLE - DELIVERY TRUCK  loc_VEHICLE - OTHER RIDE SERVICE  \\\n",
       "0                             0                                 0   \n",
       "1                             0                                 0   \n",
       "2                             0                                 0   \n",
       "4                             0                                 0   \n",
       "5                             0                                 0   \n",
       "\n",
       "   loc_VEHICLE NON-COMMERCIAL  loc_VEHICLE-COMMERCIAL  loc_WAREHOUSE  \n",
       "0                           0                       0              0  \n",
       "1                           0                       0              0  \n",
       "2                           0                       0              0  \n",
       "4                           0                       0              0  \n",
       "5                           0                       0              0  \n",
       "\n",
       "[5 rows x 496 columns]"
      ]
     },
     "execution_count": 57,
     "metadata": {},
     "output_type": "execute_result"
    }
   ],
   "source": [
    "model.head()"
   ]
  },
  {
   "cell_type": "code",
   "execution_count": 58,
   "metadata": {},
   "outputs": [],
   "source": [
    "#from sklearn import preprocessing\n",
    "# Get column names first\n",
    "#names = model.columns\n",
    "# Create the Scaler object\n",
    "#scaler = preprocessing.StandardScaler()\n",
    "# Fit your data on the scaler object\n",
    "#scaled_df = scaler.fit_transform(model)\n",
    "#scaled_df = pd.DataFrame(scaled_df, columns=names)"
   ]
  },
  {
   "cell_type": "code",
   "execution_count": 59,
   "metadata": {},
   "outputs": [],
   "source": [
    "#model.to_csv('merge_dum2.csv')"
   ]
  },
  {
   "cell_type": "code",
   "execution_count": 60,
   "metadata": {},
   "outputs": [
    {
     "data": {
      "text/plain": [
       "<matplotlib.axes._subplots.AxesSubplot at 0x221a875050>"
      ]
     },
     "execution_count": 60,
     "metadata": {},
     "output_type": "execute_result"
    },
    {
     "data": {
      "image/png": "[encoded data removed]",
      "text/plain": [
       "<Figure size 432x288 with 1 Axes>"
      ]
     },
     "metadata": {},
     "output_type": "display_data"
    }
   ],
   "source": [
    "sns.countplot(model['Arrest'], palette='hls')"
   ]
  },
  {
   "cell_type": "code",
   "execution_count": 61,
   "metadata": {},
   "outputs": [
    {
     "data": {
      "text/html": [
       "<div>\n",
       "<style scoped>\n",
       "    .dataframe tbody tr th:only-of-type {\n",
       "        vertical-align: middle;\n",
       "    }\n",
       "\n",
       "    .dataframe tbody tr th {\n",
       "        vertical-align: top;\n",
       "    }\n",
       "\n",
       "    .dataframe thead th {\n",
       "        text-align: right;\n",
       "    }\n",
       "</style>\n",
       "<table border=\"1\" class=\"dataframe\">\n",
       "  <thead>\n",
       "    <tr style=\"text-align: right;\">\n",
       "      <th></th>\n",
       "      <th>Arrest</th>\n",
       "      <th>type_BATTERY</th>\n",
       "      <th>type_BURGLARY</th>\n",
       "      <th>type_CRIM SEXUAL ASSAULT</th>\n",
       "      <th>type_CRIMINAL DAMAGE</th>\n",
       "      <th>type_CRIMINAL TRESPASS</th>\n",
       "      <th>type_DECEPTIVE PRACTICE</th>\n",
       "      <th>type_GAMBLING</th>\n",
       "      <th>type_INTERFERENCE WITH PUBLIC OFFICER</th>\n",
       "      <th>type_MOTOR VEHICLE THEFT</th>\n",
       "      <th>...</th>\n",
       "      <th>loc_SPORTS ARENA/STADIUM</th>\n",
       "      <th>loc_STREET</th>\n",
       "      <th>loc_TAVERN/LIQUOR STORE</th>\n",
       "      <th>loc_TAXICAB</th>\n",
       "      <th>loc_VACANT LOT/LAND</th>\n",
       "      <th>loc_VEHICLE - DELIVERY TRUCK</th>\n",
       "      <th>loc_VEHICLE - OTHER RIDE SERVICE</th>\n",
       "      <th>loc_VEHICLE NON-COMMERCIAL</th>\n",
       "      <th>loc_VEHICLE-COMMERCIAL</th>\n",
       "      <th>loc_WAREHOUSE</th>\n",
       "    </tr>\n",
       "  </thead>\n",
       "  <tbody>\n",
       "    <tr>\n",
       "      <th>0</th>\n",
       "      <td>1</td>\n",
       "      <td>1</td>\n",
       "      <td>0</td>\n",
       "      <td>0</td>\n",
       "      <td>0</td>\n",
       "      <td>0</td>\n",
       "      <td>0</td>\n",
       "      <td>0</td>\n",
       "      <td>0</td>\n",
       "      <td>0</td>\n",
       "      <td>...</td>\n",
       "      <td>0</td>\n",
       "      <td>0</td>\n",
       "      <td>0</td>\n",
       "      <td>0</td>\n",
       "      <td>0</td>\n",
       "      <td>0</td>\n",
       "      <td>0</td>\n",
       "      <td>0</td>\n",
       "      <td>0</td>\n",
       "      <td>0</td>\n",
       "    </tr>\n",
       "  </tbody>\n",
       "</table>\n",
       "<p>1 rows × 496 columns</p>\n",
       "</div>"
      ],
      "text/plain": [
       "   Arrest  type_BATTERY  type_BURGLARY  type_CRIM SEXUAL ASSAULT  \\\n",
       "0       1             1              0                         0   \n",
       "\n",
       "   type_CRIMINAL DAMAGE  type_CRIMINAL TRESPASS  type_DECEPTIVE PRACTICE  \\\n",
       "0                     0                       0                        0   \n",
       "\n",
       "   type_GAMBLING  type_INTERFERENCE WITH PUBLIC OFFICER  \\\n",
       "0              0                                      0   \n",
       "\n",
       "   type_MOTOR VEHICLE THEFT      ...        loc_SPORTS ARENA/STADIUM  \\\n",
       "0                         0      ...                               0   \n",
       "\n",
       "   loc_STREET  loc_TAVERN/LIQUOR STORE  loc_TAXICAB  loc_VACANT LOT/LAND  \\\n",
       "0           0                        0            0                    0   \n",
       "\n",
       "   loc_VEHICLE - DELIVERY TRUCK  loc_VEHICLE - OTHER RIDE SERVICE  \\\n",
       "0                             0                                 0   \n",
       "\n",
       "   loc_VEHICLE NON-COMMERCIAL  loc_VEHICLE-COMMERCIAL  loc_WAREHOUSE  \n",
       "0                           0                       0              0  \n",
       "\n",
       "[1 rows x 496 columns]"
      ]
     },
     "execution_count": 61,
     "metadata": {},
     "output_type": "execute_result"
    }
   ],
   "source": [
    "model.head(1)"
   ]
  },
  {
   "cell_type": "code",
   "execution_count": 62,
   "metadata": {},
   "outputs": [
    {
     "data": {
      "text/plain": [
       "(1034041, 496)"
      ]
     },
     "execution_count": 62,
     "metadata": {},
     "output_type": "execute_result"
    }
   ],
   "source": [
    "model.shape"
   ]
  },
  {
   "cell_type": "code",
   "execution_count": 63,
   "metadata": {},
   "outputs": [],
   "source": [
    "#from sklearn.model_selection import train_test_split\n",
    "#X_train, X_test, y_train, y_test = train_test_split(model.drop('Arrest',axis=1), \n",
    "#                                                    model['Arrest'], test_size=0.20, \n",
    "#                                                    random_state=101)"
   ]
  },
  {
   "cell_type": "code",
   "execution_count": 64,
   "metadata": {},
   "outputs": [],
   "source": [
    "from sklearn.model_selection import train_test_split\n",
    "from imblearn.over_sampling import SMOTE"
   ]
  },
  {
   "cell_type": "code",
   "execution_count": null,
   "metadata": {},
   "outputs": [],
   "source": [
    "os = SMOTE(random_state=0)\n",
    "X_train, X_test, y_train, y_test = train_test_split(model.drop('Arrest',axis=1), \n",
    "                                                    model['Arrest'], test_size=0.20, \n",
    "                                                    random_state=101)\n",
    "columns = X_train.columns\n",
    "os_data_X,os_data_y=os.fit_sample(X_train, y_train)\n",
    "os_data_X = pd.DataFrame(data=os_data_X,columns=columns )\n",
    "os_data_y= pd.DataFrame(data=os_data_y,columns=['Arrest'])\n",
    "\n",
    "# we can Check the numbers of our data\n",
    "\n",
    "print(\"length of oversampled data is \",len(os_data_X))\n",
    "print(\"Number of no arrests in oversampled data\",len(os_data_y[os_data_y['Arrest']==0]))\n",
    "print(\"Number of arrests\",len(os_data_y[os_data_y['Arrest']==1]))\n",
    "print(\"Proportion of no arrest data in oversampled data is \",len(os_data_y[os_data_y['Arrest']==0])/len(os_data_X))\n",
    "print(\"Proportion of arrest data in oversampled data is \",len(os_data_y[os_data_y['Arrest']==1])/len(os_data_X))"
   ]
  },
  {
   "cell_type": "code",
   "execution_count": null,
   "metadata": {},
   "outputs": [],
   "source": [
    "sns.countplot(os_data_y['Arrest'], palette='hls')"
   ]
  },
  {
   "cell_type": "code",
   "execution_count": null,
   "metadata": {},
   "outputs": [],
   "source": [
    "os_data_y['Arrest'].value_counts()"
   ]
  },
  {
   "cell_type": "code",
   "execution_count": null,
   "metadata": {},
   "outputs": [],
   "source": [
    "os_data_y.head(1)"
   ]
  },
  {
   "cell_type": "code",
   "execution_count": null,
   "metadata": {},
   "outputs": [],
   "source": [
    "os_data_X.head(1)"
   ]
  },
  {
   "cell_type": "code",
   "execution_count": null,
   "metadata": {},
   "outputs": [],
   "source": [
    "y_test.shape"
   ]
  },
  {
   "cell_type": "code",
   "execution_count": null,
   "metadata": {},
   "outputs": [],
   "source": [
    "from sklearn.linear_model import LogisticRegression\n",
    "logmodel = LogisticRegression()\n",
    "logmodel.fit(os_data_X,os_data_y)\n",
    "predictions = logmodel.predict(X_test)"
   ]
  },
  {
   "cell_type": "code",
   "execution_count": null,
   "metadata": {},
   "outputs": [],
   "source": [
    "from sklearn.metrics import classification_report\n",
    "print(classification_report(y_test,predictions))"
   ]
  },
  {
   "cell_type": "code",
   "execution_count": null,
   "metadata": {},
   "outputs": [],
   "source": [
    "from sklearn.metrics import mean_squared_error\n",
    "print(mean_squared_error(y_test,predictions))"
   ]
  },
  {
   "cell_type": "code",
   "execution_count": null,
   "metadata": {},
   "outputs": [],
   "source": [
    "X_test.shape"
   ]
  },
  {
   "cell_type": "code",
   "execution_count": null,
   "metadata": {},
   "outputs": [],
   "source": [
    "score=logmodel.score(X_test,y_test)"
   ]
  },
  {
   "cell_type": "code",
   "execution_count": null,
   "metadata": {},
   "outputs": [],
   "source": [
    "from sklearn import metrics\n",
    "cm = metrics.confusion_matrix(y_test, predictions)\n",
    "print(cm)"
   ]
  },
  {
   "cell_type": "code",
   "execution_count": null,
   "metadata": {},
   "outputs": [],
   "source": [
    "score"
   ]
  },
  {
   "cell_type": "code",
   "execution_count": null,
   "metadata": {},
   "outputs": [],
   "source": [
    "from sklearn.metrics import accuracy_score\n",
    "accuracy_score(predictions, y_test)"
   ]
  },
  {
   "cell_type": "code",
   "execution_count": null,
   "metadata": {},
   "outputs": [],
   "source": [
    "plt.figure(figsize=(9,9))\n",
    "sns.heatmap(cm, annot=True, fmt=\".3f\", linewidths=.5, square = True, cmap = 'Blues');\n",
    "plt.ylabel('Actual label');\n",
    "plt.xlabel('Predicted label');\n",
    "all_sample_title = 'Accuracy Score: {0}'.format(score)\n",
    "plt.title(all_sample_title, size = 15);"
   ]
  },
  {
   "cell_type": "markdown",
   "metadata": {},
   "source": [
    "# Feature Selection"
   ]
  },
  {
   "cell_type": "code",
   "execution_count": 53,
   "metadata": {},
   "outputs": [
    {
     "name": "stderr",
     "output_type": "stream",
     "text": [
      "/anaconda3/lib/python2.7/site-packages/sklearn/utils/validation.py:578: DataConversionWarning: A column-vector y was passed when a 1d array was expected. Please change the shape of y to (n_samples, ), for example using ravel().\n",
      "  y = column_or_1d(y, warn=True)\n"
     ]
    },
    {
     "name": "stdout",
     "output_type": "stream",
     "text": [
      "Selected features: ['type_BATTERY', 'type_BURGLARY', 'type_CRIM SEXUAL ASSAULT', 'type_CRIMINAL DAMAGE', 'type_DECEPTIVE PRACTICE', 'type_MOTOR VEHICLE THEFT', 'type_OFFENSE INVOLVING CHILDREN', 'type_OTHER OFFENSE', 'type_ROBBERY', 'type_SEX OFFENSE', 'type_THEFT', 'beat_1231', 'beat_132', 'beat_1512', 'beat_2011', 'beat_2012', 'beat_2211', 'beat_222', 'beat_233', 'beat_834', 'com_12.0', 'com_54.0', 'com_60.0', 'loc_AIRPORT TERMINAL UPPER LEVEL - SECURE AREA', 'loc_ATHLETIC CLUB', 'loc_COMMERCIAL / BUSINESS OFFICE', 'loc_HOSPITAL BUILDING/GROUNDS', 'loc_MEDICAL/DENTAL OFFICE', 'loc_OTHER', 'loc_RESIDENCE-GARAGE']\n"
     ]
    }
   ],
   "source": [
    "from sklearn.feature_selection import RFE\n",
    "# create the RFE model and select 8 attributes\n",
    "rfe = RFE(logmodel, 30)\n",
    "rfe = rfe.fit(os_data_X, os_data_y)\n",
    "print('Selected features: %s' % list(os_data_X.columns[rfe.support_]))"
   ]
  },
  {
   "cell_type": "code",
   "execution_count": 54,
   "metadata": {},
   "outputs": [
    {
     "data": {
      "text/plain": [
       "array([  1,   1,   1,   1, 315,   1, 375, 377,   1, 388,   1,   1, 378,\n",
       "       314,   1,   1,   1, 413, 367,  59,  70, 208, 431, 393, 402, 161,\n",
       "       394, 110, 381, 307, 111, 373, 278, 422, 400, 391, 379, 366,  69,\n",
       "       108, 176, 207, 168, 408, 436, 222, 144, 131, 231,  62, 412, 194,\n",
       "       177, 293,  52, 262, 193, 148,  76,  96, 133,   1,  21, 353, 167,\n",
       "        10, 360, 245, 241, 215, 212,   1, 299, 297, 163, 266,  86, 323,\n",
       "       154, 371, 418, 332, 239, 238,  97, 398,   7,  56,  63, 425,   4,\n",
       "       118,   1,  25, 166, 162, 365, 361, 387, 390, 203, 410, 352, 101,\n",
       "        54, 270,  32, 389, 285, 184, 113, 304, 100, 125,  99,  34, 300,\n",
       "       157, 358,  82, 443, 347, 359, 139, 147, 252, 329, 441,  78, 336,\n",
       "        95, 346,  53,  61, 126, 306, 344, 140,  60, 364, 276, 380, 234,\n",
       "       275, 146, 356, 301, 226, 351, 316, 256,  33, 213,   1,   1, 420,\n",
       "         9, 130, 313, 258, 242, 249, 403, 445,  93, 446, 318, 254, 143,\n",
       "       430, 330, 363, 243, 386,   1, 104,  65,   1, 217, 411, 385, 237,\n",
       "       229, 206, 197, 426, 192, 404, 357, 444,  83, 341,   1, 235, 345,\n",
       "       337, 201, 433, 349, 138, 220, 202,  22, 302, 127, 317,  57,   3,\n",
       "       324, 282, 407, 339, 283, 103, 191, 240, 132, 136, 119, 223, 438,\n",
       "       128, 179, 189, 188, 308, 321, 372, 244,  79, 265,  90,  58,   5,\n",
       "        67,  80,  31, 376, 328, 382, 224, 159,  68, 173, 137, 175, 286,\n",
       "       322, 174, 343, 342, 355, 180,  75, 153, 150, 145, 151, 149, 368,\n",
       "       142, 369, 294,  88, 178, 409, 268,  92, 227, 401, 228, 170,  87,\n",
       "       350, 290, 280, 320,  73, 396,  55, 281, 327, 442, 271, 428,  11,\n",
       "       196, 232,  94, 211, 296, 102, 395, 272,   1, 263, 216, 319, 124,\n",
       "       156, 311, 165, 414, 205, 399, 169, 298,  98, 199, 406, 152,  81,\n",
       "       122,   1, 384, 185, 209, 105,  74, 295, 200,  77, 187, 219, 182,\n",
       "       312, 164, 309, 260, 291, 230, 305, 135, 392, 251, 437, 172, 348,\n",
       "       210, 331, 288, 362, 218, 259, 303, 171, 247, 181, 424, 310, 160,\n",
       "       439, 435, 354, 274, 186, 257, 214, 325,   1,  85,  89, 429,  84,\n",
       "       415, 204,   1, 277, 432, 370, 183, 273, 253, 158, 246, 261,  51,\n",
       "       114, 255, 134, 292,  71, 287,  35, 129, 233, 107, 112, 335, 115,\n",
       "       141, 284, 338, 198, 416,   1, 427, 417,  48, 195,  20,   1,   8,\n",
       "        17,  19,  64, 116, 248, 383, 440,  29,  45, 221,   6,  36, 279,\n",
       "       236,   1, 106, 123, 250,  26, 155, 340, 423, 434,   2, 419, 190,\n",
       "       269, 397,  24, 374, 117, 421, 447,  46,  66, 334, 289,   1,  13,\n",
       "        39, 267,  28,   1,  72,  14,   1, 109, 405, 120,  47, 326,  23,\n",
       "        16,  18,   1,  15,  30,  91,  12,  42,  41,  27,  50, 121, 225,\n",
       "        44,  49,  37,  43, 264,  40,  38, 333])"
      ]
     },
     "execution_count": 54,
     "metadata": {},
     "output_type": "execute_result"
    }
   ],
   "source": [
    "rfe.ranking_"
   ]
  },
  {
   "cell_type": "code",
   "execution_count": 56,
   "metadata": {},
   "outputs": [
    {
     "data": {
      "text/plain": [
       "[Index([u'type_BATTERY', u'type_BURGLARY', u'type_CRIM SEXUAL ASSAULT',\n",
       "        u'type_CRIMINAL DAMAGE', u'type_DECEPTIVE PRACTICE',\n",
       "        u'type_MOTOR VEHICLE THEFT', u'type_OFFENSE INVOLVING CHILDREN',\n",
       "        u'type_OTHER OFFENSE', u'type_ROBBERY', u'type_SEX OFFENSE',\n",
       "        u'type_THEFT', u'beat_1231', u'beat_132', u'beat_1512', u'beat_2011',\n",
       "        u'beat_2012', u'beat_2211', u'beat_222', u'beat_233', u'beat_834',\n",
       "        u'com_12.0', u'com_54.0', u'com_60.0',\n",
       "        u'loc_AIRPORT TERMINAL UPPER LEVEL - SECURE AREA', u'loc_ATHLETIC CLUB',\n",
       "        u'loc_COMMERCIAL / BUSINESS OFFICE', u'loc_HOSPITAL BUILDING/GROUNDS',\n",
       "        u'loc_MEDICAL/DENTAL OFFICE', u'loc_OTHER', u'loc_RESIDENCE-GARAGE'],\n",
       "       dtype='object')]"
      ]
     },
     "execution_count": 56,
     "metadata": {},
     "output_type": "execute_result"
    }
   ],
   "source": [
    "features=[os_data_X.columns[rfe.support_]]\n",
    "features"
   ]
  },
  {
   "cell_type": "code",
   "execution_count": null,
   "metadata": {},
   "outputs": [],
   "source": []
  },
  {
   "cell_type": "code",
   "execution_count": 62,
   "metadata": {},
   "outputs": [],
   "source": [
    "X=model[['type_BATTERY', 'type_BURGLARY', 'type_CRIM SEXUAL ASSAULT', 'type_CRIMINAL DAMAGE', 'type_DECEPTIVE PRACTICE', 'type_MOTOR VEHICLE THEFT', 'type_OFFENSE INVOLVING CHILDREN', 'type_OTHER OFFENSE', 'type_ROBBERY', 'type_SEX OFFENSE', 'type_THEFT', 'beat_1231', 'beat_132', 'beat_1512', 'beat_2011', 'beat_2012', 'beat_2211', 'beat_222', 'beat_233', 'beat_834', 'com_54.0', 'com_60.0', 'loc_AIRPORT TERMINAL UPPER LEVEL - SECURE AREA', 'loc_COMMERCIAL / BUSINESS OFFICE', 'loc_HOSPITAL BUILDING/GROUNDS',  'loc_OTHER', 'loc_RESIDENCE-GARAGE']]\n",
    "y = crime['Arrest']"
   ]
  },
  {
   "cell_type": "code",
   "execution_count": 63,
   "metadata": {},
   "outputs": [
    {
     "name": "stderr",
     "output_type": "stream",
     "text": [
      "/anaconda3/lib/python2.7/site-packages/ipykernel_launcher.py:1: SettingWithCopyWarning: \n",
      "A value is trying to be set on a copy of a slice from a DataFrame.\n",
      "Try using .loc[row_indexer,col_indexer] = value instead\n",
      "\n",
      "See the caveats in the documentation: http://pandas.pydata.org/pandas-docs/stable/indexing.html#indexing-view-versus-copy\n",
      "  \"\"\"Entry point for launching an IPython kernel.\n"
     ]
    },
    {
     "data": {
      "text/html": [
       "<div>\n",
       "<style scoped>\n",
       "    .dataframe tbody tr th:only-of-type {\n",
       "        vertical-align: middle;\n",
       "    }\n",
       "\n",
       "    .dataframe tbody tr th {\n",
       "        vertical-align: top;\n",
       "    }\n",
       "\n",
       "    .dataframe thead th {\n",
       "        text-align: right;\n",
       "    }\n",
       "</style>\n",
       "<table border=\"1\" class=\"dataframe\">\n",
       "  <thead>\n",
       "    <tr style=\"text-align: right;\">\n",
       "      <th></th>\n",
       "      <th>type_BATTERY</th>\n",
       "      <th>type_BURGLARY</th>\n",
       "      <th>type_CRIM SEXUAL ASSAULT</th>\n",
       "      <th>type_CRIMINAL DAMAGE</th>\n",
       "      <th>type_DECEPTIVE PRACTICE</th>\n",
       "      <th>type_MOTOR VEHICLE THEFT</th>\n",
       "      <th>type_OFFENSE INVOLVING CHILDREN</th>\n",
       "      <th>type_OTHER OFFENSE</th>\n",
       "      <th>type_ROBBERY</th>\n",
       "      <th>type_SEX OFFENSE</th>\n",
       "      <th>...</th>\n",
       "      <th>beat_233</th>\n",
       "      <th>beat_834</th>\n",
       "      <th>com_54.0</th>\n",
       "      <th>com_60.0</th>\n",
       "      <th>loc_AIRPORT TERMINAL UPPER LEVEL - SECURE AREA</th>\n",
       "      <th>loc_COMMERCIAL / BUSINESS OFFICE</th>\n",
       "      <th>loc_HOSPITAL BUILDING/GROUNDS</th>\n",
       "      <th>loc_OTHER</th>\n",
       "      <th>loc_RESIDENCE-GARAGE</th>\n",
       "      <th>intercept</th>\n",
       "    </tr>\n",
       "  </thead>\n",
       "  <tbody>\n",
       "    <tr>\n",
       "      <th>376803</th>\n",
       "      <td>0</td>\n",
       "      <td>0</td>\n",
       "      <td>0</td>\n",
       "      <td>0</td>\n",
       "      <td>0</td>\n",
       "      <td>0</td>\n",
       "      <td>0</td>\n",
       "      <td>0</td>\n",
       "      <td>0</td>\n",
       "      <td>0</td>\n",
       "      <td>...</td>\n",
       "      <td>0</td>\n",
       "      <td>0</td>\n",
       "      <td>0</td>\n",
       "      <td>0</td>\n",
       "      <td>0</td>\n",
       "      <td>0</td>\n",
       "      <td>0</td>\n",
       "      <td>0</td>\n",
       "      <td>0</td>\n",
       "      <td>1</td>\n",
       "    </tr>\n",
       "    <tr>\n",
       "      <th>968327</th>\n",
       "      <td>0</td>\n",
       "      <td>0</td>\n",
       "      <td>0</td>\n",
       "      <td>1</td>\n",
       "      <td>0</td>\n",
       "      <td>0</td>\n",
       "      <td>0</td>\n",
       "      <td>0</td>\n",
       "      <td>0</td>\n",
       "      <td>0</td>\n",
       "      <td>...</td>\n",
       "      <td>0</td>\n",
       "      <td>0</td>\n",
       "      <td>0</td>\n",
       "      <td>0</td>\n",
       "      <td>0</td>\n",
       "      <td>0</td>\n",
       "      <td>0</td>\n",
       "      <td>0</td>\n",
       "      <td>0</td>\n",
       "      <td>1</td>\n",
       "    </tr>\n",
       "    <tr>\n",
       "      <th>685866</th>\n",
       "      <td>0</td>\n",
       "      <td>0</td>\n",
       "      <td>0</td>\n",
       "      <td>0</td>\n",
       "      <td>0</td>\n",
       "      <td>0</td>\n",
       "      <td>0</td>\n",
       "      <td>0</td>\n",
       "      <td>0</td>\n",
       "      <td>0</td>\n",
       "      <td>...</td>\n",
       "      <td>0</td>\n",
       "      <td>0</td>\n",
       "      <td>0</td>\n",
       "      <td>0</td>\n",
       "      <td>0</td>\n",
       "      <td>0</td>\n",
       "      <td>0</td>\n",
       "      <td>0</td>\n",
       "      <td>0</td>\n",
       "      <td>1</td>\n",
       "    </tr>\n",
       "    <tr>\n",
       "      <th>531094</th>\n",
       "      <td>0</td>\n",
       "      <td>0</td>\n",
       "      <td>0</td>\n",
       "      <td>1</td>\n",
       "      <td>0</td>\n",
       "      <td>0</td>\n",
       "      <td>0</td>\n",
       "      <td>0</td>\n",
       "      <td>0</td>\n",
       "      <td>0</td>\n",
       "      <td>...</td>\n",
       "      <td>0</td>\n",
       "      <td>0</td>\n",
       "      <td>0</td>\n",
       "      <td>0</td>\n",
       "      <td>0</td>\n",
       "      <td>0</td>\n",
       "      <td>0</td>\n",
       "      <td>0</td>\n",
       "      <td>0</td>\n",
       "      <td>1</td>\n",
       "    </tr>\n",
       "    <tr>\n",
       "      <th>781743</th>\n",
       "      <td>1</td>\n",
       "      <td>0</td>\n",
       "      <td>0</td>\n",
       "      <td>0</td>\n",
       "      <td>0</td>\n",
       "      <td>0</td>\n",
       "      <td>0</td>\n",
       "      <td>0</td>\n",
       "      <td>0</td>\n",
       "      <td>0</td>\n",
       "      <td>...</td>\n",
       "      <td>0</td>\n",
       "      <td>0</td>\n",
       "      <td>0</td>\n",
       "      <td>0</td>\n",
       "      <td>0</td>\n",
       "      <td>0</td>\n",
       "      <td>0</td>\n",
       "      <td>0</td>\n",
       "      <td>0</td>\n",
       "      <td>1</td>\n",
       "    </tr>\n",
       "  </tbody>\n",
       "</table>\n",
       "<p>5 rows × 28 columns</p>\n",
       "</div>"
      ],
      "text/plain": [
       "        type_BATTERY  type_BURGLARY  type_CRIM SEXUAL ASSAULT  \\\n",
       "376803             0              0                         0   \n",
       "968327             0              0                         0   \n",
       "685866             0              0                         0   \n",
       "531094             0              0                         0   \n",
       "781743             1              0                         0   \n",
       "\n",
       "        type_CRIMINAL DAMAGE  type_DECEPTIVE PRACTICE  \\\n",
       "376803                     0                        0   \n",
       "968327                     1                        0   \n",
       "685866                     0                        0   \n",
       "531094                     1                        0   \n",
       "781743                     0                        0   \n",
       "\n",
       "        type_MOTOR VEHICLE THEFT  type_OFFENSE INVOLVING CHILDREN  \\\n",
       "376803                         0                                0   \n",
       "968327                         0                                0   \n",
       "685866                         0                                0   \n",
       "531094                         0                                0   \n",
       "781743                         0                                0   \n",
       "\n",
       "        type_OTHER OFFENSE  type_ROBBERY  type_SEX OFFENSE    ...      \\\n",
       "376803                   0             0                 0    ...       \n",
       "968327                   0             0                 0    ...       \n",
       "685866                   0             0                 0    ...       \n",
       "531094                   0             0                 0    ...       \n",
       "781743                   0             0                 0    ...       \n",
       "\n",
       "        beat_233  beat_834  com_54.0  com_60.0  \\\n",
       "376803         0         0         0         0   \n",
       "968327         0         0         0         0   \n",
       "685866         0         0         0         0   \n",
       "531094         0         0         0         0   \n",
       "781743         0         0         0         0   \n",
       "\n",
       "        loc_AIRPORT TERMINAL UPPER LEVEL - SECURE AREA  \\\n",
       "376803                                               0   \n",
       "968327                                               0   \n",
       "685866                                               0   \n",
       "531094                                               0   \n",
       "781743                                               0   \n",
       "\n",
       "        loc_COMMERCIAL / BUSINESS OFFICE  loc_HOSPITAL BUILDING/GROUNDS  \\\n",
       "376803                                 0                              0   \n",
       "968327                                 0                              0   \n",
       "685866                                 0                              0   \n",
       "531094                                 0                              0   \n",
       "781743                                 0                              0   \n",
       "\n",
       "        loc_OTHER  loc_RESIDENCE-GARAGE  intercept  \n",
       "376803          0                     0          1  \n",
       "968327          0                     0          1  \n",
       "685866          0                     0          1  \n",
       "531094          0                     0          1  \n",
       "781743          0                     0          1  \n",
       "\n",
       "[5 rows x 28 columns]"
      ]
     },
     "execution_count": 63,
     "metadata": {},
     "output_type": "execute_result"
    }
   ],
   "source": [
    "X['intercept']=1\n",
    "X.head()"
   ]
  },
  {
   "cell_type": "code",
   "execution_count": 64,
   "metadata": {},
   "outputs": [
    {
     "name": "stdout",
     "output_type": "stream",
     "text": [
      "Optimization terminated successfully.\n",
      "         Current function value: 0.425823\n",
      "         Iterations 8\n",
      "                                        Results: Logit\n",
      "===============================================================================================\n",
      "Model:                         Logit                      Pseudo R-squared:           0.278    \n",
      "Dependent Variable:            Arrest                     AIC:                        8529.8825\n",
      "Date:                          2019-05-05 16:52           BIC:                        8731.6316\n",
      "No. Observations:              9950                       Log-Likelihood:             -4236.9  \n",
      "Df Model:                      27                         LL-Null:                    -5864.6  \n",
      "Df Residuals:                  9922                       LLR p-value:                0.0000   \n",
      "Converged:                     1.0000                     Scale:                      1.0000   \n",
      "No. Iterations:                8.0000                                                          \n",
      "-----------------------------------------------------------------------------------------------\n",
      "                                                Coef.  Std.Err.    z     P>|z|   [0.025  0.975]\n",
      "-----------------------------------------------------------------------------------------------\n",
      "type_BATTERY                                   -2.1501   0.0733 -29.3358 0.0000 -2.2938 -2.0065\n",
      "type_BURGLARY                                  -4.0588   0.2120 -19.1465 0.0000 -4.4743 -3.6433\n",
      "type_CRIM SEXUAL ASSAULT                       -2.2923   0.3448  -6.6489 0.0000 -2.9680 -1.6166\n",
      "type_CRIMINAL DAMAGE                           -3.4707   0.1271 -27.3029 0.0000 -3.7199 -3.2216\n",
      "type_DECEPTIVE PRACTICE                        -2.6410   0.1405 -18.7959 0.0000 -2.9164 -2.3656\n",
      "type_MOTOR VEHICLE THEFT                       -3.8235   0.2160 -17.7049 0.0000 -4.2467 -3.4002\n",
      "type_OFFENSE INVOLVING CHILDREN                -2.3415   0.3297  -7.1023 0.0000 -2.9877 -1.6953\n",
      "type_OTHER OFFENSE                             -2.1596   0.1103 -19.5861 0.0000 -2.3757 -1.9435\n",
      "type_ROBBERY                                   -3.2457   0.1779 -18.2476 0.0000 -3.5944 -2.8971\n",
      "type_SEX OFFENSE                               -1.8773   0.4558  -4.1190 0.0000 -2.7705 -0.9840\n",
      "type_THEFT                                     -3.0389   0.0821 -37.0368 0.0000 -3.1997 -2.8781\n",
      "beat_1231                                      -1.0781   0.6669  -1.6166 0.1060 -2.3852  0.2290\n",
      "beat_132                                       -0.6449   0.6099  -1.0574 0.2903 -1.8403  0.5505\n",
      "beat_1512                                      -1.2330   0.5595  -2.2038 0.0275 -2.3295 -0.1364\n",
      "beat_2011                                      -1.2978   0.6870  -1.8890 0.0589 -2.6444  0.0488\n",
      "beat_2012                                      -1.1009   0.8524  -1.2915 0.1965 -2.7715  0.5697\n",
      "beat_2211                                      -1.7131   0.8184  -2.0933 0.0363 -3.3171 -0.1092\n",
      "beat_222                                       -2.7410   1.0587  -2.5891 0.0096 -4.8160 -0.6660\n",
      "beat_233                                       -1.9025   1.1167  -1.7036 0.0884 -4.0912  0.2863\n",
      "beat_834                                       -1.7261   0.6666  -2.5893 0.0096 -3.0327 -0.4195\n",
      "com_54.0                                       -1.0650   0.5498  -1.9371 0.0527 -2.1425  0.0125\n",
      "com_60.0                                       -1.6224   0.4702  -3.4507 0.0006 -2.5439 -0.7009\n",
      "loc_AIRPORT TERMINAL UPPER LEVEL - SECURE AREA -2.2568   1.0448  -2.1600 0.0308 -4.3047 -0.2090\n",
      "loc_COMMERCIAL / BUSINESS OFFICE               -0.9784   0.6585  -1.4858 0.1373 -2.2690  0.3122\n",
      "loc_HOSPITAL BUILDING/GROUNDS                  -0.8858   0.4861  -1.8224 0.0684 -1.8385  0.0669\n",
      "loc_OTHER                                      -0.9392   0.1772  -5.3005 0.0000 -1.2865 -0.5919\n",
      "loc_RESIDENCE-GARAGE                           -1.1152   0.4261  -2.6171 0.0089 -1.9504 -0.2800\n",
      "intercept                                       1.0749   0.0487  22.0862 0.0000  0.9795  1.1703\n",
      "===============================================================================================\n",
      "\n"
     ]
    }
   ],
   "source": [
    "import statsmodels.api as sm\n",
    "logit_model=sm.Logit(y,X)\n",
    "result=logit_model.fit()\n",
    "print(result.summary2())"
   ]
  },
  {
   "cell_type": "markdown",
   "metadata": {},
   "source": [
    "# Some data variations"
   ]
  },
  {
   "cell_type": "code",
   "execution_count": 119,
   "metadata": {},
   "outputs": [
    {
     "data": {
      "text/plain": [
       "Index([u'Unnamed: 0', u'Unnamed: 0.1', u'ID', u'Case Number', u'Block',\n",
       "       u'IUCR', u'Primary Type', u'Description', u'Location Description',\n",
       "       u'Arrest',\n",
       "       ...\n",
       "       u'RATE_ARSON', u'RATE_INTIMIDATION', u'RATE_GAMBLING', u'TOT_RATE',\n",
       "       u'year', u'month', u'day', u'time', u'hour', u'TOD'],\n",
       "      dtype='object', length=131)"
      ]
     },
     "execution_count": 119,
     "metadata": {},
     "output_type": "execute_result"
    }
   ],
   "source": [
    "crime.columns.unique()"
   ]
  },
  {
   "cell_type": "code",
   "execution_count": 120,
   "metadata": {},
   "outputs": [],
   "source": [
    "model_grp = crime[['Arrest','Primary Type','Community Area','hour']]\n",
    "model_grp = pd.get_dummies(model_grp, prefix=['type','com','tod'],drop_first=True,)"
   ]
  },
  {
   "cell_type": "code",
   "execution_count": 121,
   "metadata": {},
   "outputs": [],
   "source": [
    "the_count = model_grp.sum().sort_values(ascending=False)"
   ]
  },
  {
   "cell_type": "code",
   "execution_count": 122,
   "metadata": {},
   "outputs": [],
   "source": [
    "the_count = pd.DataFrame(the_count)"
   ]
  },
  {
   "cell_type": "code",
   "execution_count": 123,
   "metadata": {},
   "outputs": [
    {
     "data": {
      "text/plain": [
       "49755"
      ]
     },
     "execution_count": 123,
     "metadata": {},
     "output_type": "execute_result"
    }
   ],
   "source": [
    "crime['ID'].count()"
   ]
  },
  {
   "cell_type": "code",
   "execution_count": 124,
   "metadata": {},
   "outputs": [],
   "source": [
    "the_count['proportion']=the_count[0]/156961"
   ]
  },
  {
   "cell_type": "code",
   "execution_count": 125,
   "metadata": {},
   "outputs": [
    {
     "name": "stdout",
     "output_type": "stream",
     "text": [
      "118\n"
     ]
    },
    {
     "data": {
      "text/plain": [
       "5.9"
      ]
     },
     "execution_count": 125,
     "metadata": {},
     "output_type": "execute_result"
    }
   ],
   "source": [
    "print(len(the_count[0]))\n",
    "len(the_count[0])*.05"
   ]
  },
  {
   "cell_type": "code",
   "execution_count": 126,
   "metadata": {},
   "outputs": [],
   "source": [
    "tod = crime['hour']\n",
    "tod = pd.get_dummies(tod,prefix=['tod'])\n",
    "tod = tod.sum().sort_values(ascending=False)"
   ]
  },
  {
   "cell_type": "code",
   "execution_count": 127,
   "metadata": {},
   "outputs": [
    {
     "data": {
      "text/plain": [
       "['tod']_12    2917\n",
       "['tod']_19    2889\n",
       "['tod']_15    2806\n",
       "['tod']_20    2770\n",
       "['tod']_18    2739\n",
       "['tod']_22    2678\n",
       "['tod']_16    2617\n",
       "['tod']_21    2608\n",
       "['tod']_14    2568\n",
       "['tod']_17    2563\n",
       "['tod']_13    2397\n",
       "['tod']_00    2368\n",
       "['tod']_10    2278\n",
       "['tod']_11    2272\n",
       "['tod']_09    2269\n",
       "['tod']_23    2003\n",
       "['tod']_08    1653\n",
       "['tod']_01    1519\n",
       "['tod']_02    1300\n",
       "['tod']_07    1124\n",
       "['tod']_03    1067\n",
       "['tod']_06     849\n",
       "['tod']_04     828\n",
       "['tod']_05     673\n",
       "dtype: int64"
      ]
     },
     "execution_count": 127,
     "metadata": {},
     "output_type": "execute_result"
    }
   ],
   "source": [
    "tod"
   ]
  },
  {
   "cell_type": "code",
   "execution_count": 128,
   "metadata": {},
   "outputs": [],
   "source": [
    "com = crime['Community Area']\n",
    "com = pd.get_dummies(com,prefix=['com'])\n",
    "com = com.sum().sort_values(ascending=False)"
   ]
  },
  {
   "cell_type": "code",
   "execution_count": 57,
   "metadata": {},
   "outputs": [
    {
     "ename": "NameError",
     "evalue": "name 'com' is not defined",
     "output_type": "error",
     "traceback": [
      "\u001b[0;31m\u001b[0m",
      "\u001b[0;31mNameError\u001b[0mTraceback (most recent call last)",
      "\u001b[0;32m<ipython-input-57-5fd2553a12e1>\u001b[0m in \u001b[0;36m<module>\u001b[0;34m()\u001b[0m\n\u001b[0;32m----> 1\u001b[0;31m \u001b[0mcom\u001b[0m\u001b[0;34m.\u001b[0m\u001b[0msum\u001b[0m\u001b[0;34m(\u001b[0m\u001b[0;34m)\u001b[0m\u001b[0;34m\u001b[0m\u001b[0m\n\u001b[0m",
      "\u001b[0;31mNameError\u001b[0m: name 'com' is not defined"
     ]
    }
   ],
   "source": [
    "com.sum()"
   ]
  },
  {
   "cell_type": "code",
   "execution_count": null,
   "metadata": {},
   "outputs": [],
   "source": [
    "typ = crime['Primary Type']\n",
    "typ = pd.get_dummies(typ,prefix=['typ'])\n",
    "typ = typ.sum().sort_values(ascending=False)"
   ]
  },
  {
   "cell_type": "code",
   "execution_count": null,
   "metadata": {},
   "outputs": [],
   "source": [
    "typ"
   ]
  },
  {
   "cell_type": "code",
   "execution_count": null,
   "metadata": {},
   "outputs": [],
   "source": [
    "loc = crime['Location Description']\n",
    "loc = pd.get_dummies(loc,prefix=['loc'])\n",
    "loc = loc.sum().sort_values(ascending=False)"
   ]
  },
  {
   "cell_type": "code",
   "execution_count": null,
   "metadata": {},
   "outputs": [],
   "source": [
    "loc"
   ]
  },
  {
   "cell_type": "code",
   "execution_count": null,
   "metadata": {},
   "outputs": [],
   "source": [
    "loc.sum()"
   ]
  },
  {
   "cell_type": "code",
   "execution_count": null,
   "metadata": {},
   "outputs": [],
   "source": []
  },
  {
   "cell_type": "code",
   "execution_count": null,
   "metadata": {},
   "outputs": [],
   "source": []
  },
  {
   "cell_type": "code",
   "execution_count": null,
   "metadata": {},
   "outputs": [],
   "source": []
  },
  {
   "cell_type": "code",
   "execution_count": null,
   "metadata": {},
   "outputs": [],
   "source": []
  },
  {
   "cell_type": "code",
   "execution_count": null,
   "metadata": {},
   "outputs": [],
   "source": []
  },
  {
   "cell_type": "code",
   "execution_count": null,
   "metadata": {},
   "outputs": [],
   "source": []
  }
 ],
 "metadata": {
  "kernelspec": {
   "display_name": "Python 2",
   "language": "python",
   "name": "python2"
  },
  "language_info": {
   "codemirror_mode": {
    "name": "ipython",
    "version": 2
   },
   "file_extension": ".py",
   "mimetype": "text/x-python",
   "name": "python",
   "nbconvert_exporter": "python",
   "pygments_lexer": "ipython2",
   "version": "2.7.16"
  }
 },
 "nbformat": 4,
 "nbformat_minor": 2
}
